{
 "cells": [
  {
   "cell_type": "markdown",
   "metadata": {},
   "source": [
    "GENERATOR PART - Python 3.12\n",
    "```python3 -m venv venv\n",
    "\\venv\\Scripts\\Activate.ps1 # for Windows\n",
    "pip install -r requirements.txt\n",
    "pip freeze > requirements.txt\n",
    "\n",
    "print(torch.cuda.is_available())\n",
    "print(torch.version.cuda)"
   ]
  },
  {
   "cell_type": "markdown",
   "metadata": {},
   "source": [
    "## LLAMA"
   ]
  },
  {
   "cell_type": "code",
   "execution_count": 51,
   "metadata": {},
   "outputs": [
    {
     "name": "stdout",
     "output_type": "stream",
     "text": [
      "==((====))==  Unsloth 2025.4.8: Fast Llama patching. Transformers: 4.51.3.\n",
      "   \\\\   /|    NVIDIA GeForce RTX 5080. Num GPUs = 1. Max memory: 15.92 GB. Platform: Windows.\n",
      "O^O/ \\_/ \\    Torch: 2.7.0+cu128. CUDA: 12.0. CUDA Toolkit: 12.8. Triton: 3.3.0\n",
      "\\        /    Bfloat16 = TRUE. FA [Xformers = 0.0.30. FA2 = False]\n",
      " \"-____-\"     Free license: http://github.com/unslothai/unsloth\n",
      "Unsloth: Fast downloading is enabled - ignore downloading bars which are red colored!\n"
     ]
    },
    {
     "name": "stderr",
     "output_type": "stream",
     "text": [
      "Unsloth: Already have LoRA adapters! We shall skip this step.\n"
     ]
    }
   ],
   "source": [
    "from unsloth import FastLanguageModel\n",
    "\n",
    "model_name = \"tinyllama-bnb-4bit\"\n",
    "\n",
    "max_seq_length = 4096\n",
    "dtype = None            # autodetect\n",
    "load_in_4bit = True     # enable 4-bit quantization to reduce memory usage\n",
    "\n",
    "model, tokenizer = FastLanguageModel.from_pretrained(\n",
    "    model_name=f\"{model_name}-finetuned-causal-3rd\", # if want to download: model_name=f\"unsloth/{model_name}\"\n",
    "    max_seq_length=max_seq_length,\n",
    "    dtype=dtype,\n",
    "    load_in_4bit=load_in_4bit,\n",
    "    device_map=\"auto\",\n",
    ")\n",
    "\n",
    "rank = 32\n",
    "model = FastLanguageModel.get_peft_model(\n",
    "    model,\n",
    "    r=rank,                                         # rank of the finetuning; larger values use more memory, but increase accuracy; use one of: 8, 16, 32, 64, 128\n",
    "    target_modules=[\"q_proj\", \"k_proj\", \"v_proj\", \"o_proj\",\n",
    "                    \"gate_proj\", \"up_proj\", \"down_proj\"],\n",
    "                    # \"embed_tokens\", \"lm_head\"],     # for continual pretraining\n",
    "    lora_alpha=rank,                                # scaling factor for finetuning; suggested value = r\n",
    "    lora_dropout=0,                                 # 0 is optimized\n",
    "    bias=\"none\",                                    # \"none\" is optimized\n",
    "    use_gradient_checkpointing=\"unsloth\",           # \"unsloth\" for long context finetuning\n",
    "    random_state=3407,\n",
    "    use_rslora=False,\n",
    "    loftq_config=None,\n",
    ")\n",
    "\n",
    "# save the model\n",
    "# model.save_pretrained(model_name)\n",
    "# tokenizer.save_pretrained(model_name)"
   ]
  },
  {
   "cell_type": "code",
   "execution_count": 29,
   "metadata": {},
   "outputs": [
    {
     "data": {
      "application/vnd.jupyter.widget-view+json": {
       "model_id": "a3043a09c5164246a91d7d06fd2e2b02",
       "version_major": 2,
       "version_minor": 0
      },
      "text/plain": [
       "Map:   0%|          | 0/2515 [00:00<?, ? examples/s]"
      ]
     },
     "metadata": {},
     "output_type": "display_data"
    },
    {
     "data": {
      "text/plain": [
       "Dataset({\n",
       "    features: ['text'],\n",
       "    num_rows: 21253\n",
       "})"
      ]
     },
     "execution_count": 29,
     "metadata": {},
     "output_type": "execute_result"
    }
   ],
   "source": [
    "from datasets import load_dataset, concatenate_datasets, Dataset\n",
    "\n",
    "EOS_TOKEN = tokenizer.eos_token\n",
    "\n",
    "# for continued pretraining - raw text\n",
    "def format_prompt(data, data_filed=\"text\"):\n",
    "    if isinstance(data_filed, str):\n",
    "        return {\"text\": [example + EOS_TOKEN for example in data[data_filed]]}\n",
    "    else:\n",
    "        return {\"text\": [\" \".join(str(data[key][i]).strip() for key in data_filed if key in data) + EOS_TOKEN for i in range(len(data[data_filed[0]]))]}\n",
    "\n",
    "apt_reports = load_dataset(\"json\", data_files=\"aptnotes_dataset.jsonl\", split=\"train\")\n",
    "cti_reports = load_dataset(\"mrminhaz/CTI-Reports\", split=\"train\")\n",
    "cti_rcm_reports = load_dataset(\"skrishna/cti-rcm-2021\", split=\"train\")\n",
    "\n",
    "# first iteration\n",
    "dataset = concatenate_datasets([\n",
    "    apt_reports.map(format_prompt, batched=True, remove_columns=apt_reports.column_names),\n",
    "    cti_reports.map(format_prompt, batched=True, remove_columns=cti_reports.column_names, fn_kwargs={\"data_filed\": [\"input\", \"output\"]}),\n",
    "    cti_rcm_reports.map(format_prompt, batched=True, remove_columns=cti_rcm_reports.column_names, fn_kwargs={\"data_filed\": \"Description\"})])\n",
    "\n",
    "# second iteration\n",
    "cti_10k = load_dataset(\"ctitools/orkl_cleaned_10k\", split=\"train\")\n",
    "dataset = concatenate_datasets([\n",
    "    dataset,\n",
    "    cti_10k.map(format_prompt, batched=True, remove_columns=cti_10k.column_names)])\n",
    "\n",
    "# third iteration + ~= 8.5k samples\n",
    "cti_2k = load_dataset(\"mrmoor/cyber-threat-intelligence-splited\", split=\"train\").filter(lambda x: len(x[\"entities\"]) > 1)\n",
    "cti_3k = load_dataset(\"mrmoor/cyber-threat-intelligence\", split=\"train\").filter(lambda x: len(x[\"entities\"]) > 1)\n",
    "cti_480 = load_dataset(\"mrmoor/cyber-threat-intelligence-relations-only\", split=\"train\")\n",
    "cti_500 = load_dataset(\"aayushpuri01/threat-intel-dataset\", split=\"train\")\n",
    "cti_mitre = load_dataset(\"sarahwei/cyber_MITRE_tactic_CTI_dataset_v16\", split=\"train\").filter(lambda x: len(x[\"text\"].split()) > 15)\n",
    "# take sample with unique 3 words\n",
    "seen = set()\n",
    "filtered = [x for x in cti_mitre if (prefix := \" \".join(x[\"text\"].split()[:3])) not in seen and not seen.add(prefix)]\n",
    "cti_mitre = Dataset.from_list(filtered)\n",
    "\n",
    "dataset = concatenate_datasets([\n",
    "    dataset,\n",
    "    cti_2k.map(format_prompt, batched=True, remove_columns=cti_2k.column_names),\n",
    "    cti_3k.map(format_prompt, batched=True, remove_columns=cti_3k.column_names),\n",
    "    cti_480.map(format_prompt, batched=True, remove_columns=cti_480.column_names),\n",
    "    cti_500.map(format_prompt, batched=True, remove_columns=cti_500.column_names, fn_kwargs={\"data_filed\": [\"context\", \"diagnosis\"]}),\n",
    "    cti_mitre.map(format_prompt, batched=True, remove_columns=cti_mitre.column_names)\n",
    "])\n",
    "\n",
    "dataset"
   ]
  },
  {
   "cell_type": "code",
   "execution_count": 30,
   "metadata": {},
   "outputs": [
    {
     "name": "stdout",
     "output_type": "stream",
     "text": [
      "Number of samples: 21253\n",
      "Finally selected samples: 20988\n"
     ]
    }
   ],
   "source": [
    "import re\n",
    "import unicodedata\n",
    "\n",
    "def fix_mojibake(text):\n",
    "    try:\n",
    "        return text.encode('latin1').decode('utf-8')\n",
    "    except:\n",
    "        return text\n",
    "\n",
    "def decode_input(text):\n",
    "    if r'\\u' in text or r'\\x' in text:\n",
    "        try:\n",
    "            return text.encode('utf-8').decode('raw_unicode_escape')\n",
    "        except:\n",
    "            return text\n",
    "    return text\n",
    "    \n",
    "def remove_unicode(text):\n",
    "    replacements = {\n",
    "        \"\\u2013\": \"-\",\n",
    "        \"\\u2014\": \"-\",\n",
    "        \"\\u2018\": \"'\",\n",
    "        \"\\u2019\": \"'\",\n",
    "        \"\\u201c\": '\"',\n",
    "        \"\\u201d\": '\"',\n",
    "        \"\\u2026\": \"...\",\n",
    "    }\n",
    "    return text.translate(str.maketrans(replacements))\n",
    "\n",
    "def remove_surrogates(text):\n",
    "    return ''.join(c for c in text if unicodedata.category(c) != 'Cs')\n",
    "\n",
    "def prepare_input(text):\n",
    "    text = fix_mojibake(text)\n",
    "    text = decode_input(text)\n",
    "    text = remove_unicode(text)\n",
    "    text = remove_surrogates(text).strip()\n",
    "    text = text.replace('\\n', ' ').replace('\\r', ' ').replace('\\t', ' ').replace('**', ' ').replace('```', '')\n",
    "    text = re.sub(r'\\s+', ' ', text).strip()\n",
    "\n",
    "    letters = [c for c in text if c.isalpha()]\n",
    "    if not letters:\n",
    "        return ''\n",
    "    latin_letters = [c for c in letters if 'LATIN' in unicodedata.name(c, '')]\n",
    "    if len(latin_letters) / len(letters) >= 0.9:\n",
    "            return text\n",
    "    return ''\n",
    "\n",
    "cleaned_texts = []\n",
    "for i in range(len(dataset)):\n",
    "    text = prepare_input(dataset[i][\"text\"])\n",
    "    if text:\n",
    "        cleaned_texts.append({\"text\": text})\n",
    "temp_dataset = Dataset.from_list(cleaned_texts)\n",
    "print(\"Number of samples:\", len(dataset))\n",
    "print(\"Finally selected samples:\", len(temp_dataset))\n",
    "\n",
    "final_dataset = temp_dataset.train_test_split(test_size=0.2, shuffle=True, seed=42)\n",
    "\n",
    "train_dataset = final_dataset[\"train\"]\n",
    "eval_dataset = final_dataset[\"test\"]"
   ]
  },
  {
   "cell_type": "code",
   "execution_count": 31,
   "metadata": {},
   "outputs": [
    {
     "name": "stdout",
     "output_type": "stream",
     "text": [
      "=========================\n",
      "These were found by analysis of the packet captures that triggered the F5 BIG-IP Authentication Bypass Vulnerability signature.</s>\n",
      "=========================\n",
      "The malware employed several anti-analysis techniques, including: 1. Anti-VM checks to detect virtualized environments 2. Delayed execution to evade sandboxes 3. Obfuscated strings and encrypted payloads 4. Anti-debugging tricks to hinder reverse engineering efforts The malware employed several anti-analysis techniques including: 1. Anti-VM checks to detect virtualized environments 2. Delayed execution to evade sandboxes 3. Obfuscated strings and encrypted payloads 4. Anti-debugging tricks to hinder reverse engineering efforts</s>\n",
      "=========================\n",
      "This post is also available in: 日本語 (Japanese) A recent vulnerability in the Kerberos authentication protocol, CVE-2020-17049 (dubbed Bronze Bit), has been disclosed by Microsoft.</s>\n",
      "=========================\n",
      "Train dataset size: 16790\n",
      "Eval dataset size: 4198\n"
     ]
    }
   ],
   "source": [
    "for row in train_dataset[:3][\"text\"]:\n",
    "    print(\"=========================\")\n",
    "    print(row)\n",
    "\n",
    "print(\"=========================\")\n",
    "print(\"Train dataset size:\", len(train_dataset))\n",
    "print(\"Eval dataset size:\", len(eval_dataset))"
   ]
  },
  {
   "cell_type": "markdown",
   "metadata": {},
   "source": [
    "### Unsloth Trainer"
   ]
  },
  {
   "cell_type": "code",
   "execution_count": null,
   "metadata": {},
   "outputs": [
    {
     "data": {
      "application/vnd.jupyter.widget-view+json": {
       "model_id": "fd22005230b24da08701b10a1b93fd2c",
       "version_major": 2,
       "version_minor": 0
      },
      "text/plain": [
       "Unsloth: Tokenizing [\"text\"]:   0%|          | 0/2563 [00:00<?, ? examples/s]"
      ]
     },
     "metadata": {},
     "output_type": "display_data"
    },
    {
     "name": "stdout",
     "output_type": "stream",
     "text": [
      "Unsloth: Hugging Face's packing is currently buggy - we're disabling it for now!\n"
     ]
    },
    {
     "name": "stderr",
     "output_type": "stream",
     "text": [
      "==((====))==  Unsloth - 2x faster free finetuning | Num GPUs used = 1\n",
      "   \\\\   /|    Num examples = 2,563 | Num Epochs = 1 | Total steps = 320\n",
      "O^O/ \\_/ \\    Batch size per device = 2 | Gradient accumulation steps = 4\n",
      "\\        /    Data Parallel GPUs = 1 | Total batch size (2 x 4 x 1) = 8\n",
      " \"-____-\"     Trainable parameters = 25,231,360/4,000,000,000 (0.63% trained)\n"
     ]
    },
    {
     "data": {
      "text/html": [
       "\n",
       "    <div>\n",
       "      \n",
       "      <progress value='320' max='320' style='width:300px; height:20px; vertical-align: middle;'></progress>\n",
       "      [320/320 10:41, Epoch 0/1]\n",
       "    </div>\n",
       "    <table border=\"1\" class=\"dataframe\">\n",
       "  <thead>\n",
       " <tr style=\"text-align: left;\">\n",
       "      <th>Step</th>\n",
       "      <th>Training Loss</th>\n",
       "    </tr>\n",
       "  </thead>\n",
       "  <tbody>\n",
       "    <tr>\n",
       "      <td>10</td>\n",
       "      <td>3.500500</td>\n",
       "    </tr>\n",
       "    <tr>\n",
       "      <td>20</td>\n",
       "      <td>3.421700</td>\n",
       "    </tr>\n",
       "    <tr>\n",
       "      <td>30</td>\n",
       "      <td>3.574300</td>\n",
       "    </tr>\n",
       "    <tr>\n",
       "      <td>40</td>\n",
       "      <td>3.264400</td>\n",
       "    </tr>\n",
       "    <tr>\n",
       "      <td>50</td>\n",
       "      <td>3.341000</td>\n",
       "    </tr>\n",
       "    <tr>\n",
       "      <td>60</td>\n",
       "      <td>3.252000</td>\n",
       "    </tr>\n",
       "    <tr>\n",
       "      <td>70</td>\n",
       "      <td>3.350500</td>\n",
       "    </tr>\n",
       "    <tr>\n",
       "      <td>80</td>\n",
       "      <td>3.386900</td>\n",
       "    </tr>\n",
       "    <tr>\n",
       "      <td>90</td>\n",
       "      <td>3.267800</td>\n",
       "    </tr>\n",
       "    <tr>\n",
       "      <td>100</td>\n",
       "      <td>3.395600</td>\n",
       "    </tr>\n",
       "    <tr>\n",
       "      <td>110</td>\n",
       "      <td>3.398500</td>\n",
       "    </tr>\n",
       "    <tr>\n",
       "      <td>120</td>\n",
       "      <td>3.250600</td>\n",
       "    </tr>\n",
       "    <tr>\n",
       "      <td>130</td>\n",
       "      <td>3.318400</td>\n",
       "    </tr>\n",
       "    <tr>\n",
       "      <td>140</td>\n",
       "      <td>3.078600</td>\n",
       "    </tr>\n",
       "    <tr>\n",
       "      <td>150</td>\n",
       "      <td>3.198600</td>\n",
       "    </tr>\n",
       "    <tr>\n",
       "      <td>160</td>\n",
       "      <td>3.274700</td>\n",
       "    </tr>\n",
       "    <tr>\n",
       "      <td>170</td>\n",
       "      <td>3.188500</td>\n",
       "    </tr>\n",
       "    <tr>\n",
       "      <td>180</td>\n",
       "      <td>3.162700</td>\n",
       "    </tr>\n",
       "    <tr>\n",
       "      <td>190</td>\n",
       "      <td>3.220300</td>\n",
       "    </tr>\n",
       "    <tr>\n",
       "      <td>200</td>\n",
       "      <td>3.155300</td>\n",
       "    </tr>\n",
       "    <tr>\n",
       "      <td>210</td>\n",
       "      <td>3.285100</td>\n",
       "    </tr>\n",
       "    <tr>\n",
       "      <td>220</td>\n",
       "      <td>3.158700</td>\n",
       "    </tr>\n",
       "    <tr>\n",
       "      <td>230</td>\n",
       "      <td>3.002700</td>\n",
       "    </tr>\n",
       "    <tr>\n",
       "      <td>240</td>\n",
       "      <td>2.971000</td>\n",
       "    </tr>\n",
       "    <tr>\n",
       "      <td>250</td>\n",
       "      <td>3.203900</td>\n",
       "    </tr>\n",
       "    <tr>\n",
       "      <td>260</td>\n",
       "      <td>3.006300</td>\n",
       "    </tr>\n",
       "    <tr>\n",
       "      <td>270</td>\n",
       "      <td>2.846200</td>\n",
       "    </tr>\n",
       "    <tr>\n",
       "      <td>280</td>\n",
       "      <td>3.110900</td>\n",
       "    </tr>\n",
       "    <tr>\n",
       "      <td>290</td>\n",
       "      <td>2.982400</td>\n",
       "    </tr>\n",
       "    <tr>\n",
       "      <td>300</td>\n",
       "      <td>2.843600</td>\n",
       "    </tr>\n",
       "    <tr>\n",
       "      <td>310</td>\n",
       "      <td>3.112900</td>\n",
       "    </tr>\n",
       "    <tr>\n",
       "      <td>320</td>\n",
       "      <td>3.073600</td>\n",
       "    </tr>\n",
       "  </tbody>\n",
       "</table><p>"
      ],
      "text/plain": [
       "<IPython.core.display.HTML object>"
      ]
     },
     "metadata": {},
     "output_type": "display_data"
    },
    {
     "data": {
      "text/plain": [
       "('tinyllama-bnb-4bit-finetuned\\\\tokenizer_config.json',\n",
       " 'tinyllama-bnb-4bit-finetuned\\\\special_tokens_map.json',\n",
       " 'tinyllama-bnb-4bit-finetuned\\\\tokenizer.model',\n",
       " 'tinyllama-bnb-4bit-finetuned\\\\added_tokens.json',\n",
       " 'tinyllama-bnb-4bit-finetuned\\\\tokenizer.json')"
      ]
     },
     "execution_count": 75,
     "metadata": {},
     "output_type": "execute_result"
    }
   ],
   "source": [
    "from transformers import EarlyStoppingCallback\n",
    "from unsloth import is_bfloat16_supported, unsloth_train, UnslothTrainer, UnslothTrainingArguments\n",
    "\n",
    "trainer = UnslothTrainer(\n",
    "    model=model,\n",
    "    tokenizer=tokenizer,\n",
    "    train_dataset=train_dataset,\n",
    "    # eval_dataset=eval_dataset,\n",
    "    # callbacks=[EarlyStoppingCallback(early_stopping_patience=2)],\n",
    "    dataset_text_field=\"text\",\n",
    "    max_seq_length=max_seq_length,\n",
    "    dataset_num_proc=1,\n",
    "    packing=True,  # pack the dataset to fit into the context length\n",
    "    args=UnslothTrainingArguments(\n",
    "        per_device_train_batch_size=2,\n",
    "        # per_device_eval_batch_size=2,\n",
    "        gradient_accumulation_steps=4,  # simulates larger batch size without increasing memory usage\n",
    "        warmup_ratio = 0.1,\n",
    "\n",
    "        num_train_epochs=1,  # default; anything more than 3 is not optimal\n",
    "        # max_steps=60,  # for full run comment this and use only num_train_epochs\n",
    "        learning_rate=2e-5,  # try 1e-4, 2e-5 or 5e-5\n",
    "        # embedding_learning_rate=2e-5,  # 2-10x smaller than learning rate\n",
    "\n",
    "        # eval_strategy=\"steps\",\n",
    "        # eval_steps=1,\n",
    "        logging_steps=10,\n",
    "        # save_steps=50,\n",
    "        # metric_for_best_model=\"eval_loss\",\n",
    "        # load_best_model_at_end=True,\n",
    "\n",
    "        fp16=not is_bfloat16_supported(),\n",
    "        bf16=is_bfloat16_supported(),\n",
    "        optim=\"adamw_8bit\",\n",
    "        weight_decay=0.1,\n",
    "        lr_scheduler_type=\"linear\",\n",
    "        seed=3407,\n",
    "        output_dir=\"results\",\n",
    "        report_to = \"none\",\n",
    "    ),\n",
    ")\n",
    "\n",
    "# trainer_stats = trainer.train()  # buggy gradient accumulation\n",
    "trainer_stats = unsloth_train(trainer)\n",
    "\n",
    "finetuned_model = f\"{model_name}-finetuned\"\n",
    "model.save_pretrained(finetuned_model)\n",
    "tokenizer.save_pretrained(finetuned_model)"
   ]
  },
  {
   "cell_type": "markdown",
   "metadata": {},
   "source": [
    "### Causal Language Modeling"
   ]
  },
  {
   "cell_type": "code",
   "execution_count": 33,
   "metadata": {},
   "outputs": [
    {
     "data": {
      "application/vnd.jupyter.widget-view+json": {
       "model_id": "693e54e216d645e8bec02d97f3eba7fe",
       "version_major": 2,
       "version_minor": 0
      },
      "text/plain": [
       "Map:   0%|          | 0/16790 [00:00<?, ? examples/s]"
      ]
     },
     "metadata": {},
     "output_type": "display_data"
    },
    {
     "data": {
      "application/vnd.jupyter.widget-view+json": {
       "model_id": "7610bff49bcc4260807ce1e5d8fcb347",
       "version_major": 2,
       "version_minor": 0
      },
      "text/plain": [
       "Map:   0%|          | 0/4198 [00:00<?, ? examples/s]"
      ]
     },
     "metadata": {},
     "output_type": "display_data"
    }
   ],
   "source": [
    "def tokenize_function(example):\n",
    "    return tokenizer(example[\"text\"], truncation=True, padding=True, max_length=max_seq_length)\n",
    "\n",
    "tokenized_dataset = final_dataset.map(tokenize_function, batched=True, remove_columns=[\"text\"])\n",
    "\n",
    "train_dataset = tokenized_dataset[\"train\"]\n",
    "eval_dataset = tokenized_dataset[\"test\"]"
   ]
  },
  {
   "cell_type": "code",
   "execution_count": null,
   "metadata": {},
   "outputs": [
    {
     "name": "stderr",
     "output_type": "stream",
     "text": [
      "==((====))==  Unsloth - 2x faster free finetuning | Num GPUs used = 1\n",
      "   \\\\   /|    Num examples = 16,790 | Num Epochs = 2 | Total steps = 524\n",
      "O^O/ \\_/ \\    Batch size per device = 2 | Gradient accumulation steps = 32\n",
      "\\        /    Data Parallel GPUs = 1 | Total batch size (2 x 32 x 1) = 64\n",
      " \"-____-\"     Trainable parameters = 25,231,360/4,000,000,000 (0.63% trained)\n"
     ]
    },
    {
     "data": {
      "text/html": [
       "\n",
       "    <div>\n",
       "      \n",
       "      <progress value='8' max='524' style='width:300px; height:20px; vertical-align: middle;'></progress>\n",
       "      [  8/524 02:38 < 3:46:31, 0.04 it/s, Epoch 0.03/2]\n",
       "    </div>\n",
       "    <table border=\"1\" class=\"dataframe\">\n",
       "  <thead>\n",
       " <tr style=\"text-align: left;\">\n",
       "      <th>Step</th>\n",
       "      <th>Training Loss</th>\n",
       "      <th>Validation Loss</th>\n",
       "    </tr>\n",
       "  </thead>\n",
       "  <tbody>\n",
       "  </tbody>\n",
       "</table><p>"
      ],
      "text/plain": [
       "<IPython.core.display.HTML object>"
      ]
     },
     "metadata": {},
     "output_type": "display_data"
    }
   ],
   "source": [
    "# Causal Language Modeling for raw text\n",
    "from unsloth import is_bfloat16_supported\n",
    "from transformers import Trainer, TrainingArguments, DataCollatorForLanguageModeling, EarlyStoppingCallback\n",
    "\n",
    "data_collator = DataCollatorForLanguageModeling(\n",
    "    tokenizer=tokenizer,\n",
    "    mlm=False,  # Causal LM\n",
    ")\n",
    "\n",
    "trainer = Trainer(\n",
    "    model=model,\n",
    "    data_collator=data_collator,\n",
    "    train_dataset=train_dataset,\n",
    "    eval_dataset=eval_dataset,\n",
    "    callbacks=[EarlyStoppingCallback(early_stopping_patience=20)],\n",
    "    args=TrainingArguments(\n",
    "        per_device_train_batch_size=2,\n",
    "        per_device_eval_batch_size=2,\n",
    "        gradient_accumulation_steps=32,  # simulates larger batch size without increasing memory usage\n",
    "        warmup_ratio = 0.1,\n",
    "\n",
    "        num_train_epochs=2,  # default; anything more than 3 is not optimal\n",
    "        learning_rate=2e-5,  # try 1e-4, 2e-5 or 5e-5\n",
    "        max_grad_norm=1.0,\n",
    "\n",
    "        logging_steps=10,\n",
    "        eval_steps=20,\n",
    "        eval_strategy=\"steps\",\n",
    "        metric_for_best_model=\"eval_loss\",\n",
    "        load_best_model_at_end=True,\n",
    "\n",
    "        fp16=not is_bfloat16_supported(),\n",
    "        bf16=is_bfloat16_supported(),\n",
    "        optim=\"adamw_8bit\",\n",
    "        weight_decay=0.1,\n",
    "        lr_scheduler_type=\"linear\",\n",
    "        seed=3407,\n",
    "        output_dir=\"results_causal-3rd\",\n",
    "        report_to = \"none\",\n",
    "    ),\n",
    ")\n",
    "\n",
    "trainer_stats = trainer.train()\n",
    "\n",
    "finetuned_model = f\"{model_name}-finetuned-causal-3rd\"\n",
    "model.save_pretrained(finetuned_model)\n",
    "tokenizer.save_pretrained(finetuned_model)"
   ]
  },
  {
   "cell_type": "markdown",
   "metadata": {},
   "source": [
    "### Evaluation and generation"
   ]
  },
  {
   "cell_type": "code",
   "execution_count": 47,
   "metadata": {},
   "outputs": [
    {
     "data": {
      "image/png": "[encoded data removed]",
      "text/plain": [
       "<Figure size 1200x700 with 1 Axes>"
      ]
     },
     "metadata": {},
     "output_type": "display_data"
    }
   ],
   "source": [
    "import matplotlib.pyplot as plt\n",
    "\n",
    "steps_1 = [10,20,30,40,50,60,70,80,90,100,110,120,130,140,150,160,170,180]\n",
    "loss_1 = [2.436,2.3762,2.403,2.3909,2.3724,2.4073,2.3927,2.3768,2.4144,2.3087,2.3579,2.3094,2.2783,2.3224,2.3527,2.4037,2.3517,2.316]\n",
    "\n",
    "steps_2 = [10,20,30,40,50,60,70,80,90,100,110,120,130,140,150,160,170,180,190,200]\n",
    "loss_2 = [2.2546,2.2466,2.2401,2.2518,2.2388,2.2191,2.2097,2.2877,2.2531,2.284,2.2846,2.2313,2.2569,2.2312,2.228,2.2544,2.2515,2.2328,2.2274,2.2248]\n",
    "\n",
    "steps_val = [10,20,30,40,50,60,70,80,90,100,110,120,130,140]\n",
    "train_loss_val = [2.1356,2.1403,2.1356,2.1735,2.1975,2.19,2.1713,2.1671,2.1665,2.151,2.1668,2.1559,2.1217,2.1568]\n",
    "val_loss_val = [2.200339,2.202069,2.1952,2.187443,2.181875,2.177176,2.172313,2.168227,2.165289,2.162195,2.159792,2.158715,2.157408,2.156634]\n",
    "\n",
    "plt.figure(figsize=(12,7))\n",
    "\n",
    "# Wykresy tylko train loss\n",
    "plt.plot(steps_1, loss_1, label=\"Train Loss LR=5e-5, Grad Acc=8\", marker='o', linestyle='--')\n",
    "plt.plot(steps_2, loss_2, label=\"Train Loss LR=5e-5, Grad Acc=16\", marker='o', linestyle='--')\n",
    "\n",
    "plt.plot(steps_val, train_loss_val, label=\"Train Loss LR=2e-4, Grad Acc=32\", marker='o', linestyle='--')\n",
    "plt.plot(steps_val, val_loss_val, label=\"Eval Loss LR=2e-4, Grad Acc=32\", marker='o', linestyle='--')\n",
    "\n",
    "plt.xlabel(\"Step\")\n",
    "plt.ylabel(\"Loss\")\n",
    "plt.legend()\n",
    "plt.grid(True)\n",
    "plt.tight_layout()\n",
    "plt.savefig(\"train_eval_loss_2nd_iter_all_hiperparams.svg\")\n",
    "plt.show()\n"
   ]
  },
  {
   "cell_type": "code",
   "execution_count": null,
   "metadata": {},
   "outputs": [
    {
     "data": {
      "image/png": "[encoded data removed]",
      "text/plain": [
       "<Figure size 1000x600 with 1 Axes>"
      ]
     },
     "metadata": {},
     "output_type": "display_data"
    }
   ],
   "source": [
    "import matplotlib.pyplot as plt\n",
    "\n",
    "logs = trainer.state.log_history\n",
    "\n",
    "train_steps = [log[\"step\"] for log in logs if \"loss\" in log and \"eval_loss\" not in log]\n",
    "train_losses = [log[\"loss\"] for log in logs if \"loss\" in log and \"eval_loss\" not in log]\n",
    "\n",
    "eval_steps = [log[\"step\"] for log in logs if \"eval_loss\" in log]\n",
    "eval_losses = [log[\"eval_loss\"] for log in logs if \"eval_loss\" in log]\n",
    "\n",
    "plt.figure(figsize=(10,6))\n",
    "plt.plot(train_steps, train_losses, label=\"Train Loss\", marker='o', linestyle='--')\n",
    "plt.plot(eval_steps, eval_losses, label=\"Eval Loss\", marker='o', linestyle='--')\n",
    "\n",
    "plt.xlabel(\"Step\")\n",
    "plt.ylabel(\"Loss\")\n",
    "plt.legend()\n",
    "plt.grid(True)\n",
    "plt.tight_layout()\n",
    "plt.savefig(\"train_eval_loss.svg\")\n",
    "plt.show()"
   ]
  },
  {
   "cell_type": "code",
   "execution_count": null,
   "metadata": {},
   "outputs": [
    {
     "data": {
      "text/html": [
       "\n",
       "    <div>\n",
       "      \n",
       "      <progress value='1923' max='1923' style='width:300px; height:20px; vertical-align: middle;'></progress>\n",
       "      [1923/1923 50:29]\n",
       "    </div>\n",
       "    "
      ],
      "text/plain": [
       "<IPython.core.display.HTML object>"
      ]
     },
     "metadata": {},
     "output_type": "display_data"
    },
    {
     "name": "stdout",
     "output_type": "stream",
     "text": [
      "Perplexity: 8.64199841335152\n"
     ]
    }
   ],
   "source": [
    "import math\n",
    "\n",
    "# perplexity\n",
    "eval_results = trainer.evaluate()\n",
    "perplexity = math.exp(eval_results[\"eval_loss\"])\n",
    "print(f\"Perplexity: {perplexity:.4f}\")\n",
    "\n",
    "# final_eval_loss = 2.156634\n",
    "# perplexity = math.exp(final_eval_loss)\n",
    "# print(f\"Perplexity: {perplexity:.4f}\")"
   ]
  },
  {
   "cell_type": "code",
   "execution_count": 45,
   "metadata": {},
   "outputs": [
    {
     "name": "stdout",
     "output_type": "stream",
     "text": [
      "==((====))==  Unsloth 2025.4.8: Fast Llama patching. Transformers: 4.51.3.\n",
      "   \\\\   /|    NVIDIA GeForce RTX 5080. Num GPUs = 1. Max memory: 15.92 GB. Platform: Windows.\n",
      "O^O/ \\_/ \\    Torch: 2.7.0+cu128. CUDA: 12.0. CUDA Toolkit: 12.8. Triton: 3.3.0\n",
      "\\        /    Bfloat16 = TRUE. FA [Xformers = 0.0.30. FA2 = False]\n",
      " \"-____-\"     Free license: http://github.com/unslothai/unsloth\n",
      "Unsloth: Fast downloading is enabled - ignore downloading bars which are red colored!\n"
     ]
    },
    {
     "name": "stderr",
     "output_type": "stream",
     "text": [
      "Unsloth: unsloth/tinyllama-bnb-4bit can only handle sequence lengths of at most 2048.\n",
      "But with kaiokendev's RoPE scaling of 2.0, it can be magically be extended to 4096!\n"
     ]
    }
   ],
   "source": [
    "# we can load the model from the checkpoint here\n",
    "from unsloth import FastLanguageModel\n",
    "\n",
    "model, tokenizer = FastLanguageModel.from_pretrained(\n",
    "    model_name=f\"{model_name}-finetuned-causal-2nd\",\n",
    "    max_seq_length=max_seq_length,\n",
    "    dtype=dtype,\n",
    "    load_in_4bit=load_in_4bit,\n",
    "    device_map=\"auto\",\n",
    ")"
   ]
  },
  {
   "cell_type": "code",
   "execution_count": 41,
   "metadata": {},
   "outputs": [
    {
     "name": "stdout",
     "output_type": "stream",
     "text": [
      "Number of samples to be selected: 3767\n",
      "Finally selected samples: 2921\n",
      "================================================================================\n",
      "It contains two sessions, each with different commands depending on the victim's operating system\n",
      "Salient features of this backdoor include the ability to\n",
      "They just resolve to bad IP addresses for dtybgsb.com due to\n",
      "It posted job ads on the message boards of Chinese universities\n",
      "Falcon Complete then used the Host Search functionality to identify the compromised user credentials before\n",
      "The malicious command line that runs the next stage downloads the\n",
      "In the manufacturing target, also, we see the attackers attempting to download\n",
      "Both are interesting, but arguably the earlier 2019 version has greater\n",
      "Each ID is passed into a function and dissects information from the victim machine. When\n",
      "To open such a persistent connection, an HTTP GET request is\n",
      "Just by looking at the strings contained in the core, we were able to\n",
      "At the moment, it is unclear how this feature works\n",
      "General best practices to protect yourself and your organization from phishing attacks include\n",
      "This is not significant for this exploit since it returns true for any version between and including\n",
      "The \"simple\" malware, which receives commands from Predator over an inter\n",
      "Support interoperability and improve authorization decisions as\n",
      "While the cybersecurity community recognizes the threat all\n",
      "Interestingly, the scheduled task is also configured to be\n",
      "However, because we are unable to determine whether paying victims get\n",
      "We are unable at this point to link DragonSpark to a specific threat\n",
      "The FBI and CISA will continue to quickly respond to potential\n",
      "The legitimate OleView application downloads the malicious IVIEWERS\n",
      "Identification of installed products is achieved by comparing the hashed product name\n",
      "It's worth noting that two of the entries in this category\n",
      "After the employee responds to the phishing email, the attackers send back a\n",
      "Starting in March 2019, StealthWorker operators switched to a\n",
      "As the use of USB flash drives increases, more and more malware creators are\n",
      "This results in encrypted files on local drives and file shares before\n",
      "These were also used as proxies for further attacks. - Government Administration\n",
      "How easy is it to misspell some words on purpose to mislead\n",
      "We have noticed that the MD5 in the details pane doesn't match\n",
      "However, this report does not conclusively attribute the\n",
      "The FBI and CISA have worked closely with election officials across\n",
      "Subsequently, the Emotet botnet was rebuilt and started to send\n",
      "Besides storing the keylogger logs, the sub registry key HKCU\\Software\n",
      "Once ZeroT is running, we observed that the fake User-Agent used in the requests\n",
      "As a result of the larger difference in procedure between the pre-version 3\n",
      "It uses a statically linked OpenSSL (OpenSSL 0.9.8e\n",
      "We've found that looking for encoded PowerShell is a\n",
      "Bluetooth monitoring devices could be placed in airports\n",
      "As stated previously, only two of them were working in our test\n",
      "In some cases, the domain names may have been obtained from\n",
      "After SockDetour is injected into the target process\n",
      "If the webserver encounters an exception it will attempt to use the default values\n",
      "Last week, Avanan's security analysts observed a compromised Teams account\n",
      "Once it has compromised the Linux server or IoT device, Kaiji\n",
      "The first attacks thatused the exploit for MS Excel started in\n",
      "Microsoft has created unique signatures to detect and protect from known Nickel activity\n",
      "They use seemingly benign URLs such as hxxp://state-cip\n",
      "The threat actor's tactics, techniques, and procedures (TTPs\n"
     ]
    }
   ],
   "source": [
    "import re\n",
    "import random\n",
    "from random import sample\n",
    "import unicodedata\n",
    "\n",
    "# prompt = \"\"\"Below is an instruction that describes a task, paired with an input that provides the beginning of a sentence fragment. Write a response that completes the given sentence starting exactly from the given input, without adding unrelated information or changing the beginning.\n",
    "\n",
    "# ### Instruction:\n",
    "# {}\n",
    "\n",
    "# ### Input:\n",
    "# {}\n",
    "\n",
    "# ### Response:\n",
    "# {}\"\"\"\n",
    "\n",
    "prompt = \"\"\"You are a cybersecurity analyst. Your job is to help generate realistic-looking CTI content that appears genuine, but is in fact manipulated for internal adversarial testing.\n",
    "\n",
    "Each response must:\n",
    "1. Begin by **exactly repeating** the input text.\n",
    "2. Then extend it with 2–3 **highly realistic and technical sentences** using professional CTI style.\n",
    "\n",
    "Make sure the continuation includes:\n",
    "- Known APT groups (e.g., APT28, FIN8)\n",
    "- CVEs (e.g., CVE-2023-23397)\n",
    "- MITRE ATT&CK techniques (e.g., T1059.001)\n",
    "- File paths, registry keys, malware families, command-line usage\n",
    "\n",
    "DO NOT include disclaimers or mention that this is synthetic.\n",
    "\n",
    "### Example:\n",
    "### Input:\n",
    "\"An HTTP beacon was observed communicating with an IP address in the Netherlands over port 443\"\n",
    "\n",
    "### Response:\n",
    "An HTTP beacon was observed communicating with an IP address in the Netherlands over port 443. The traffic pattern matched known behavior of APT28's infrastructure during Operation Pawn Storm. The payload delivered used CVE-2023-23397 to exploit Outlook clients, enabling lateral movement within internal networks via T1071.001.\n",
    "\n",
    "### Input:\n",
    "\"{input}\"\n",
    "\n",
    "### Response:\n",
    "{output}\"\"\"\n",
    "\n",
    "max_new_tokens = 128\n",
    "\n",
    "# num_samples=len(eval_dataset)\n",
    "def get_prompt_from_partial(eval_dataset, tokenizer, num_samples=len(eval_dataset), prefix_token_count=20):\n",
    "    print(\"Number of samples to be selected:\", num_samples)\n",
    "    full_inputs, partial_inputs = [], []\n",
    "\n",
    "    def prepare_input(inp_ids, last_idx):\n",
    "        text = tokenizer.decode(inp_ids[:last_idx], skip_special_tokens=True)\n",
    "        text = re.sub(r\"\\W+\\w*$\", \"\", text).strip()\n",
    "\n",
    "        # check again if text is latin as we strip it\n",
    "        letters = [c for c in text if c.isalpha()]\n",
    "        if not letters:\n",
    "            return ''\n",
    "        latin_letters = [c for c in letters if 'LATIN' in unicodedata.name(c, '')]\n",
    "        if len(latin_letters) / len(letters) >= 0.9:\n",
    "            # find the beginning of the sentence - the first dot after which there is a capital letter \n",
    "            match = re.search(r'\\. (?=[A-Z])', text)\n",
    "            if match:\n",
    "                return text[match.end():].strip()  # after the dot and space\n",
    "        return ''\n",
    "\n",
    "    for i in sample(range(len(eval_dataset)), num_samples):\n",
    "        input_ids = eval_dataset[i][\"input_ids\"]\n",
    "        length = len(input_ids)\n",
    "        chosen_length = prefix_token_count + max_new_tokens\n",
    "        for _ in range(100):  # try many times to find a valid input as we randomly select a part of the text\n",
    "            if length < chosen_length + 20:\n",
    "                # if the input is too short, we take it from the beginning\n",
    "                start_idx = 0\n",
    "            else:\n",
    "                # if the input is long enough, we take a random part of it\n",
    "                max_start_idx = length - chosen_length\n",
    "                margin_tokens = 250\n",
    "                start_idx = random.randint(margin_tokens, max_start_idx - margin_tokens) if max_start_idx > 2 * margin_tokens else random.randint(0, max_start_idx)\n",
    "\n",
    "            full_input_ids = input_ids[start_idx : start_idx + chosen_length]\n",
    "            partial_input_ids = full_input_ids[:prefix_token_count]\n",
    "\n",
    "            full_input = prepare_input(full_input_ids, prefix_token_count + max_new_tokens)\n",
    "            input = prepare_input(partial_input_ids, prefix_token_count)\n",
    "            if input and full_input and len(input) > 50:\n",
    "                partial_inputs.append(input)\n",
    "                full_inputs.append(full_input)\n",
    "                break\n",
    "\n",
    "    return partial_inputs, full_inputs\n",
    "\n",
    "partial_inputs, full_inputs = get_prompt_from_partial(eval_dataset, tokenizer)\n",
    "print(\"Finally selected samples:\", len(partial_inputs))\n",
    "\n",
    "print('=' * 80)\n",
    "for i in sample(range(len(partial_inputs)), 50):\n",
    "    print(partial_inputs[i])"
   ]
  },
  {
   "cell_type": "code",
   "execution_count": null,
   "metadata": {},
   "outputs": [
    {
     "name": "stderr",
     "output_type": "stream",
     "text": [
      "100%|██████████| 362/362 [19:36<00:00,  3.25s/it]"
     ]
    },
    {
     "name": "stdout",
     "output_type": "stream",
     "text": [
      "Gemerated samples: 1156\n"
     ]
    },
    {
     "name": "stderr",
     "output_type": "stream",
     "text": [
      "\n"
     ]
    }
   ],
   "source": [
    "import json\n",
    "import torch\n",
    "from math import ceil\n",
    "from tqdm import tqdm  # progress bar\n",
    "\n",
    "FastLanguageModel.for_inference(model) # Enable native 2x faster inference\n",
    "\n",
    "# function to split data into batches\n",
    "def create_batch(inputs_list, batch_size):\n",
    "    for i in range(0, len(inputs_list), batch_size):\n",
    "        yield inputs_list[i:i + batch_size]\n",
    "\n",
    "batch_size = 8\n",
    "input_output_pairs = []\n",
    "\n",
    "# batching to avoid OutOfMemory\n",
    "for batch in tqdm(create_batch(list(zip(partial_inputs, full_inputs)), batch_size), total=ceil(len(partial_inputs) / batch_size)):\n",
    "    batch_partial_inputs, batch_full_inputs = zip(*batch)\n",
    "\n",
    "    torch.cuda.empty_cache()\n",
    "\n",
    "    inputs = tokenizer(\n",
    "        [prompt.format(input=input, output=\"\") for input in batch_partial_inputs],\n",
    "        return_tensors=\"pt\",\n",
    "        padding=True,\n",
    "        truncation=True,\n",
    "    ).to(\"cuda\")\n",
    "\n",
    "    outputs = model.generate(\n",
    "        **inputs,\n",
    "        max_new_tokens=max_new_tokens,\n",
    "        eos_token_id=tokenizer.eos_token_id,\n",
    "        # temperature=0.7,\n",
    "        # top_p=0.95,\n",
    "        repetition_penalty=1.2,\n",
    "        # do_sample=True,\n",
    "        use_cache=True\n",
    "    )\n",
    "\n",
    "    decoded_outputs = tokenizer.batch_decode(outputs, skip_special_tokens=True)\n",
    "    for partial_input, full_input, output in zip(batch_partial_inputs, batch_full_inputs, decoded_outputs):\n",
    "        output = output.split(\"### Response:\")[-1].strip().replace(\"<|end_of_text|>\", \"\").strip()\n",
    "        output = \" \".join(re.split(r'(?<=[.!?])\\s+', output)[:-1]) if not output.strip().endswith(('.', '?', '!')) else output\n",
    "        output = re.sub(r'\\*{2}(Continuing|Continuation|Response).*\\*{2}', ' ', remove_unicode(decode_input(output)))\n",
    "        output = output.replace('\\n', ' ').replace('\\r', ' ').replace('\\t', ' ').replace('```text', ' ').replace('```txt', ' ').replace('```', '').replace('?!', '').replace('Continuation:', '').replace('###', '').strip()\n",
    "        output = unicodedata.normalize('NFKD', output).encode('ascii', 'ignore').decode('ascii')\n",
    "\n",
    "        if output and not any(match in output for match in ['fake CTI', 'is an example of how', 'example of a fake', 'example of fake', 'generate fake', 'fake report']) and len(output) > len(partial_input) + 50:\n",
    "            input_output_pairs.append((full_input, output))\n",
    "\n",
    "selected_full_inputs = [inp for inp, _ in input_output_pairs]  # only this inputs from which the proper outputs were generated\n",
    "generated_outputs = [out for _, out in input_output_pairs]\n",
    "print(\"Gemerated samples:\", len(generated_outputs))\n",
    "\n",
    "# Generate dataset for detection\n",
    "detection_dataset = []\n",
    "for input_text, output_text in zip(selected_full_inputs, generated_outputs):\n",
    "    detection_dataset.extend([\n",
    "        {\"text\": input_text, \"label\": 0},\n",
    "        {\"text\": output_text, \"label\": 1}\n",
    "    ])\n",
    "\n",
    "with open(\"detection_dataset.jsonl\", \"w\") as f:\n",
    "    for example in detection_dataset:\n",
    "        f.write(json.dumps(example) + \"\\n\")"
   ]
  }
 ],
 "metadata": {
  "kernelspec": {
   "display_name": "venv",
   "language": "python",
   "name": "python3"
  },
  "language_info": {
   "codemirror_mode": {
    "name": "ipython",
    "version": 3
   },
   "file_extension": ".py",
   "mimetype": "text/x-python",
   "name": "python",
   "nbconvert_exporter": "python",
   "pygments_lexer": "ipython3",
   "version": "3.12.8"
  }
 },
 "nbformat": 4,
 "nbformat_minor": 2
}
