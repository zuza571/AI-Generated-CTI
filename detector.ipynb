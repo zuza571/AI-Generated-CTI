{
  "cells": [
    {
      "cell_type": "markdown",
      "metadata": {},
      "source": [
        "### Dataset"
      ]
    },
    {
      "cell_type": "code",
      "execution_count": 396,
      "metadata": {
        "id": "5iRD6u83CIqt"
      },
      "outputs": [],
      "source": [
        "import pandas as pd\n",
        "from datasets import Dataset\n",
        "\n",
        "df1 = pd.read_json('detection_dataset_1st_iter.jsonl', lines=True)\n",
        "df2 = pd.read_json('detection_dataset_2nd_iter.jsonl', lines=True)\n",
        "df3 = pd.read_json('detection_dataset_3rd_iter_2e-5.jsonl', lines=True)\n",
        "df4 = pd.read_json('detection_dataset_3rd_iter_2e-4.jsonl', lines=True)\n",
        "df5 = pd.read_json('detection_dataset_3rd_iter_2e-4_v2.jsonl', lines=True)\n",
        "\n",
        "combined_df = pd.concat([df1, df2, df3, df4, df5], ignore_index=True).drop_duplicates()\n",
        "dataset = Dataset.from_pandas(combined_df)\n",
        "\n",
        "# for final evaluation\n",
        "dataset_survey = Dataset.from_pandas(pd.read_json('survey/samples_for_survey.jsonl', lines=True))"
      ]
    },
    {
      "cell_type": "code",
      "execution_count": 361,
      "metadata": {
        "id": "3RjhFIbCKhC3"
      },
      "outputs": [],
      "source": [
        "import numpy as np\n",
        "import evaluate\n",
        "from sklearn.metrics import fbeta_score\n",
        "\n",
        "accuracy_metric = evaluate.load(\"accuracy\")\n",
        "precision_metric = evaluate.load(\"precision\")\n",
        "recall_metric = evaluate.load(\"recall\")\n",
        "f1_metric = evaluate.load(\"f1\")\n",
        "roc_auc_metric = evaluate.load(\"roc_auc\")\n",
        "\n",
        "def compute_metrics(eval_pred):\n",
        "    predictions, labels = eval_pred\n",
        "\n",
        "    prediction_scores = predictions[:, 1]\n",
        "    predicted_labels = np.argmax(predictions, axis=1)\n",
        "\n",
        "    return {\n",
        "        \"accuracy\": accuracy_metric.compute(predictions=predicted_labels, references=labels)[\"accuracy\"],\n",
        "        \"precision\": precision_metric.compute(predictions=predicted_labels, references=labels, average='weighted')[\"precision\"],\n",
        "        \"recall\": recall_metric.compute(predictions=predicted_labels, references=labels, average='weighted')[\"recall\"],\n",
        "        \"f1\": f1_metric.compute(predictions=predicted_labels, references=labels, average='weighted')[\"f1\"],\n",
        "        \"f2\": fbeta_score(labels, predicted_labels, beta=2, average=\"weighted\"),\n",
        "        \"roc_auc\": roc_auc_metric.compute(prediction_scores=prediction_scores, references=labels)[\"roc_auc\"]\n",
        "    }"
      ]
    },
    {
      "cell_type": "code",
      "execution_count": 397,
      "metadata": {
        "id": "R-naWKr-JDuy"
      },
      "outputs": [
        {
          "name": "stderr",
          "output_type": "stream",
          "text": [
            "Some weights of DistilBertForSequenceClassification were not initialized from the model checkpoint at distilbert/distilbert-base-uncased and are newly initialized: ['classifier.bias', 'classifier.weight', 'pre_classifier.bias', 'pre_classifier.weight']\n",
            "You should probably TRAIN this model on a down-stream task to be able to use it for predictions and inference.\n"
          ]
        }
      ],
      "source": [
        "from transformers import AutoTokenizer, AutoModelForSequenceClassification\n",
        "\n",
        "tokenizer = AutoTokenizer.from_pretrained(\"distilbert/distilbert-base-uncased\")\n",
        "\n",
        "id2label = {0: \"REAL\", 1: \"GENERATED\"}\n",
        "label2id = {\"REAL\": 0, \"GENERATED\": 1}\n",
        "\n",
        "model = AutoModelForSequenceClassification.from_pretrained(\n",
        "    \"distilbert/distilbert-base-uncased\", num_labels=2, id2label=id2label, label2id=label2id\n",
        ")"
      ]
    },
    {
      "cell_type": "code",
      "execution_count": 398,
      "metadata": {},
      "outputs": [],
      "source": [
        "def preprocess_function(examples):\n",
        "    return tokenizer(examples[\"text\"], truncation=True, padding='max_length')"
      ]
    },
    {
      "cell_type": "markdown",
      "metadata": {},
      "source": [
        "#### Previous runs"
      ]
    },
    {
      "cell_type": "code",
      "execution_count": null,
      "metadata": {
        "colab": {
          "base_uri": "https://localhost:8080/",
          "height": 49,
          "referenced_widgets": [
            "59096574ee5d4d0a9319139bcd4e6353",
            "677b87eea6a7484786a9456d7d855878",
            "63ac971893974ed0a9d73c5da25c28e8",
            "1e626271766443a6b6d290367cc49645",
            "b9708ce144bd493895c9307d81f48314",
            "270ef43aa08641e3bc7bada56fc01a85",
            "e46fd38b260b4ebf9e2a4892b79399ee",
            "d572b2c6afec4faa8dff3510f14c5cea",
            "a2476b5b2ed945beb4bb35328017ac44",
            "a310fd6bfd6e4e929228419b8733589d",
            "45dc2f1813404312b24c09368a4e28f9"
          ]
        },
        "id": "vsS1S_4hJKV1",
        "outputId": "400bfd2e-5272-4da4-f18a-2edddb90fc16"
      },
      "outputs": [
        {
          "data": {
            "application/vnd.jupyter.widget-view+json": {
              "model_id": "ee68403924c3489d8e25cff8481a8511",
              "version_major": 2,
              "version_minor": 0
            },
            "text/plain": [
              "Map:   0%|          | 0/8422 [00:00<?, ? examples/s]"
            ]
          },
          "metadata": {},
          "output_type": "display_data"
        },
        {
          "data": {
            "application/vnd.jupyter.widget-view+json": {
              "model_id": "26b89db25b6645bba4d18440352c131d",
              "version_major": 2,
              "version_minor": 0
            },
            "text/plain": [
              "Casting the dataset:   0%|          | 0/8422 [00:00<?, ? examples/s]"
            ]
          },
          "metadata": {},
          "output_type": "display_data"
        },
        {
          "name": "stdout",
          "output_type": "stream",
          "text": [
            "Train: Counter({1: 3146, 0: 2917})\n",
            "Validation: Counter({1: 350, 0: 324})\n",
            "Test: Counter({1: 874, 0: 811})\n"
          ]
        }
      ],
      "source": [
        "from datasets import ClassLabel\n",
        "from collections import Counter\n",
        "\n",
        "tokenized_data = dataset.map(preprocess_function, batched=True)\n",
        "\n",
        "label_feature = ClassLabel(names=[\"0\", \"1\"])\n",
        "tokenized_data = tokenized_data.cast_column(\"label\", label_feature)\n",
        "\n",
        "tokenized_data = tokenized_data.train_test_split(test_size=0.2, seed=42, stratify_by_column=\"label\")\n",
        "training_eval_tokenized_data = tokenized_data['train'].train_test_split(test_size=0.1, seed=42, stratify_by_column=\"label\")\n",
        "\n",
        "print(\"Train:\", Counter(training_eval_tokenized_data[\"train\"][\"label\"]))\n",
        "print(\"Validation:\", Counter(training_eval_tokenized_data[\"test\"][\"label\"]))\n",
        "print(\"Test:\", Counter(tokenized_data[\"test\"][\"label\"]))"
      ]
    },
    {
      "cell_type": "markdown",
      "metadata": {},
      "source": [
        "#### Final run"
      ]
    },
    {
      "cell_type": "code",
      "execution_count": 399,
      "metadata": {},
      "outputs": [
        {
          "data": {
            "application/vnd.jupyter.widget-view+json": {
              "model_id": "ce03d9ee50754be0aa2c40bc8baed4dd",
              "version_major": 2,
              "version_minor": 0
            },
            "text/plain": [
              "Filter:   0%|          | 0/10086 [00:00<?, ? examples/s]"
            ]
          },
          "metadata": {},
          "output_type": "display_data"
        },
        {
          "data": {
            "application/vnd.jupyter.widget-view+json": {
              "model_id": "11de501f49294329a71a19a5b859d703",
              "version_major": 2,
              "version_minor": 0
            },
            "text/plain": [
              "Map:   0%|          | 0/104 [00:00<?, ? examples/s]"
            ]
          },
          "metadata": {},
          "output_type": "display_data"
        },
        {
          "data": {
            "application/vnd.jupyter.widget-view+json": {
              "model_id": "b2971b6043204b72bbeb8df6f9be1235",
              "version_major": 2,
              "version_minor": 0
            },
            "text/plain": [
              "Casting the dataset:   0%|          | 0/104 [00:00<?, ? examples/s]"
            ]
          },
          "metadata": {},
          "output_type": "display_data"
        },
        {
          "data": {
            "application/vnd.jupyter.widget-view+json": {
              "model_id": "8bae02ab57de4c5e94477530d0db4d94",
              "version_major": 2,
              "version_minor": 0
            },
            "text/plain": [
              "Filter:   0%|          | 0/10086 [00:00<?, ? examples/s]"
            ]
          },
          "metadata": {},
          "output_type": "display_data"
        },
        {
          "data": {
            "application/vnd.jupyter.widget-view+json": {
              "model_id": "19d2213f039e46298d4d810a986c4a05",
              "version_major": 2,
              "version_minor": 0
            },
            "text/plain": [
              "Map:   0%|          | 0/9982 [00:00<?, ? examples/s]"
            ]
          },
          "metadata": {},
          "output_type": "display_data"
        },
        {
          "data": {
            "application/vnd.jupyter.widget-view+json": {
              "model_id": "67508a3a9c924a7ca6efa423e47f5c3c",
              "version_major": 2,
              "version_minor": 0
            },
            "text/plain": [
              "Casting the dataset:   0%|          | 0/9982 [00:00<?, ? examples/s]"
            ]
          },
          "metadata": {},
          "output_type": "display_data"
        },
        {
          "name": "stdout",
          "output_type": "stream",
          "text": [
            "Train: Counter({1: 3931, 0: 3255})\n",
            "Validation: Counter({1: 437, 0: 362})\n",
            "Test: Counter({1: 1092, 0: 905})\n",
            "Survey Data: Counter({0: 53, 1: 51})\n"
          ]
        }
      ],
      "source": [
        "from datasets import ClassLabel\n",
        "from collections import Counter\n",
        "\n",
        "label_feature = ClassLabel(names=[\"0\", \"1\"])\n",
        "\n",
        "# look at the first 120 characters of the text as esacpe quotes were removed for the survey ==> the final distribution is not exactly 50:50, but we don't want the data leakage!\n",
        "signs_number = 120\n",
        "survey_set = set(t.strip().lower()[:signs_number] for t in dataset_survey[\"text\"])\n",
        "tokenized_data_survey = dataset.filter(lambda example: example[\"text\"].strip().lower()[:signs_number] in survey_set).map(preprocess_function, batched=True).cast_column(\"label\", label_feature).shuffle(seed=42)\n",
        "\n",
        "tokenized_data = dataset.filter(lambda example: example[\"text\"].strip().lower()[:signs_number] not in survey_set).map(preprocess_function, batched=True).cast_column(\"label\", label_feature)\n",
        "\n",
        "tokenized_data = tokenized_data.train_test_split(test_size=0.2, seed=42, stratify_by_column=\"label\")\n",
        "training_eval_tokenized_data = tokenized_data['train'].train_test_split(test_size=0.1, seed=42, stratify_by_column=\"label\")\n",
        "\n",
        "print(\"Train:\", Counter(training_eval_tokenized_data[\"train\"][\"label\"]))\n",
        "print(\"Validation:\", Counter(training_eval_tokenized_data[\"test\"][\"label\"]))\n",
        "print(\"Test:\", Counter(tokenized_data[\"test\"][\"label\"]))\n",
        "print(\"Survey Data:\", Counter(tokenized_data_survey[\"label\"]))\n"
      ]
    },
    {
      "cell_type": "markdown",
      "metadata": {},
      "source": [
        "### Training"
      ]
    },
    {
      "cell_type": "code",
      "execution_count": 400,
      "metadata": {
        "colab": {
          "base_uri": "https://localhost:8080/",
          "height": 406
        },
        "id": "w_Q5FU6OLF0l",
        "outputId": "7016b564-8da0-4f54-b712-5af40dd6ca32"
      },
      "outputs": [
        {
          "data": {
            "text/html": [
              "\n",
              "    <div>\n",
              "      \n",
              "      <progress value='150' max='1350' style='width:300px; height:20px; vertical-align: middle;'></progress>\n",
              "      [ 150/1350 01:26 < 11:40, 1.71 it/s, Epoch 0/3]\n",
              "    </div>\n",
              "    <table border=\"1\" class=\"dataframe\">\n",
              "  <thead>\n",
              " <tr style=\"text-align: left;\">\n",
              "      <th>Step</th>\n",
              "      <th>Training Loss</th>\n",
              "      <th>Validation Loss</th>\n",
              "      <th>Accuracy</th>\n",
              "      <th>Precision</th>\n",
              "      <th>Recall</th>\n",
              "      <th>F1</th>\n",
              "      <th>F2</th>\n",
              "      <th>Roc Auc</th>\n",
              "    </tr>\n",
              "  </thead>\n",
              "  <tbody>\n",
              "    <tr>\n",
              "      <td>10</td>\n",
              "      <td>0.690900</td>\n",
              "      <td>0.673293</td>\n",
              "      <td>0.619524</td>\n",
              "      <td>0.655435</td>\n",
              "      <td>0.619524</td>\n",
              "      <td>0.569724</td>\n",
              "      <td>0.588647</td>\n",
              "      <td>0.754656</td>\n",
              "    </tr>\n",
              "    <tr>\n",
              "      <td>20</td>\n",
              "      <td>0.668000</td>\n",
              "      <td>0.651576</td>\n",
              "      <td>0.574468</td>\n",
              "      <td>0.741883</td>\n",
              "      <td>0.574468</td>\n",
              "      <td>0.447496</td>\n",
              "      <td>0.507974</td>\n",
              "      <td>0.887543</td>\n",
              "    </tr>\n",
              "    <tr>\n",
              "      <td>30</td>\n",
              "      <td>0.629700</td>\n",
              "      <td>0.603759</td>\n",
              "      <td>0.668335</td>\n",
              "      <td>0.780918</td>\n",
              "      <td>0.668335</td>\n",
              "      <td>0.613877</td>\n",
              "      <td>0.631672</td>\n",
              "      <td>0.941837</td>\n",
              "    </tr>\n",
              "    <tr>\n",
              "      <td>40</td>\n",
              "      <td>0.565400</td>\n",
              "      <td>0.505097</td>\n",
              "      <td>0.896120</td>\n",
              "      <td>0.896070</td>\n",
              "      <td>0.896120</td>\n",
              "      <td>0.896026</td>\n",
              "      <td>0.896066</td>\n",
              "      <td>0.957710</td>\n",
              "    </tr>\n",
              "    <tr>\n",
              "      <td>50</td>\n",
              "      <td>0.444000</td>\n",
              "      <td>0.370438</td>\n",
              "      <td>0.916145</td>\n",
              "      <td>0.918735</td>\n",
              "      <td>0.916145</td>\n",
              "      <td>0.915630</td>\n",
              "      <td>0.915513</td>\n",
              "      <td>0.983653</td>\n",
              "    </tr>\n",
              "    <tr>\n",
              "      <td>60</td>\n",
              "      <td>0.309300</td>\n",
              "      <td>0.234940</td>\n",
              "      <td>0.954944</td>\n",
              "      <td>0.956116</td>\n",
              "      <td>0.954944</td>\n",
              "      <td>0.954791</td>\n",
              "      <td>0.954707</td>\n",
              "      <td>0.995739</td>\n",
              "    </tr>\n",
              "    <tr>\n",
              "      <td>70</td>\n",
              "      <td>0.171300</td>\n",
              "      <td>0.134882</td>\n",
              "      <td>0.981227</td>\n",
              "      <td>0.981434</td>\n",
              "      <td>0.981227</td>\n",
              "      <td>0.981204</td>\n",
              "      <td>0.981187</td>\n",
              "      <td>0.998982</td>\n",
              "    </tr>\n",
              "    <tr>\n",
              "      <td>80</td>\n",
              "      <td>0.097400</td>\n",
              "      <td>0.065967</td>\n",
              "      <td>0.992491</td>\n",
              "      <td>0.992547</td>\n",
              "      <td>0.992491</td>\n",
              "      <td>0.992494</td>\n",
              "      <td>0.992486</td>\n",
              "      <td>0.999450</td>\n",
              "    </tr>\n",
              "    <tr>\n",
              "      <td>90</td>\n",
              "      <td>0.065400</td>\n",
              "      <td>0.041724</td>\n",
              "      <td>0.994994</td>\n",
              "      <td>0.995009</td>\n",
              "      <td>0.994994</td>\n",
              "      <td>0.994995</td>\n",
              "      <td>0.994993</td>\n",
              "      <td>0.998938</td>\n",
              "    </tr>\n",
              "    <tr>\n",
              "      <td>100</td>\n",
              "      <td>0.042800</td>\n",
              "      <td>0.030013</td>\n",
              "      <td>0.996245</td>\n",
              "      <td>0.996249</td>\n",
              "      <td>0.996245</td>\n",
              "      <td>0.996246</td>\n",
              "      <td>0.996245</td>\n",
              "      <td>0.998957</td>\n",
              "    </tr>\n",
              "    <tr>\n",
              "      <td>110</td>\n",
              "      <td>0.035200</td>\n",
              "      <td>0.023868</td>\n",
              "      <td>0.996245</td>\n",
              "      <td>0.996249</td>\n",
              "      <td>0.996245</td>\n",
              "      <td>0.996246</td>\n",
              "      <td>0.996245</td>\n",
              "      <td>0.998938</td>\n",
              "    </tr>\n",
              "    <tr>\n",
              "      <td>120</td>\n",
              "      <td>0.015200</td>\n",
              "      <td>0.019241</td>\n",
              "      <td>0.998748</td>\n",
              "      <td>0.998751</td>\n",
              "      <td>0.998748</td>\n",
              "      <td>0.998748</td>\n",
              "      <td>0.998748</td>\n",
              "      <td>0.998458</td>\n",
              "    </tr>\n",
              "    <tr>\n",
              "      <td>130</td>\n",
              "      <td>0.012300</td>\n",
              "      <td>0.017379</td>\n",
              "      <td>0.996245</td>\n",
              "      <td>0.996249</td>\n",
              "      <td>0.996245</td>\n",
              "      <td>0.996246</td>\n",
              "      <td>0.996245</td>\n",
              "      <td>0.998603</td>\n",
              "    </tr>\n",
              "    <tr>\n",
              "      <td>140</td>\n",
              "      <td>0.027700</td>\n",
              "      <td>0.015395</td>\n",
              "      <td>0.997497</td>\n",
              "      <td>0.997497</td>\n",
              "      <td>0.997497</td>\n",
              "      <td>0.997497</td>\n",
              "      <td>0.997497</td>\n",
              "      <td>0.998603</td>\n",
              "    </tr>\n",
              "    <tr>\n",
              "      <td>150</td>\n",
              "      <td>0.056400</td>\n",
              "      <td>0.014083</td>\n",
              "      <td>0.998748</td>\n",
              "      <td>0.998751</td>\n",
              "      <td>0.998748</td>\n",
              "      <td>0.998748</td>\n",
              "      <td>0.998748</td>\n",
              "      <td>0.998489</td>\n",
              "    </tr>\n",
              "  </tbody>\n",
              "</table><p>"
            ],
            "text/plain": [
              "<IPython.core.display.HTML object>"
            ]
          },
          "metadata": {},
          "output_type": "display_data"
        },
        {
          "data": {
            "text/plain": [
              "('distilbert-finetuned\\\\tokenizer_config.json',\n",
              " 'distilbert-finetuned\\\\special_tokens_map.json',\n",
              " 'distilbert-finetuned\\\\vocab.txt',\n",
              " 'distilbert-finetuned\\\\added_tokens.json',\n",
              " 'distilbert-finetuned\\\\tokenizer.json')"
            ]
          },
          "execution_count": 400,
          "metadata": {},
          "output_type": "execute_result"
        }
      ],
      "source": [
        "from transformers import TrainingArguments, Trainer, EarlyStoppingCallback, DataCollatorWithPadding\n",
        "\n",
        "trainer = Trainer(\n",
        "    model=model,\n",
        "    train_dataset=training_eval_tokenized_data['train'],\n",
        "    eval_dataset=training_eval_tokenized_data['test'],\n",
        "    processing_class=tokenizer,\n",
        "    data_collator=DataCollatorWithPadding(tokenizer=tokenizer),\n",
        "    compute_metrics=compute_metrics,\n",
        "    callbacks=[EarlyStoppingCallback(early_stopping_patience=3)],\n",
        "    args=TrainingArguments(\n",
        "        output_dir=\"results_distilbert\",\n",
        "        learning_rate=1e-5,\n",
        "        per_device_train_batch_size=16,\n",
        "        per_device_eval_batch_size=16,\n",
        "        num_train_epochs=3,\n",
        "        weight_decay=0.01,\n",
        "        logging_steps=10,\n",
        "        eval_steps=10,\n",
        "        eval_strategy=\"steps\",\n",
        "        load_best_model_at_end=True,\n",
        "        metric_for_best_model=\"f1\",\n",
        "        greater_is_better=True,\n",
        "        report_to=\"none\"\n",
        "    ),\n",
        ")\n",
        "\n",
        "trainer.train()\n",
        "\n",
        "finetuned_model = \"distilbert-finetuned\"\n",
        "model.save_pretrained(finetuned_model)\n",
        "tokenizer.save_pretrained(finetuned_model)"
      ]
    },
    {
      "cell_type": "markdown",
      "metadata": {},
      "source": [
        "### Evaluation"
      ]
    },
    {
      "cell_type": "code",
      "execution_count": 401,
      "metadata": {
        "colab": {
          "base_uri": "https://localhost:8080/",
          "height": 606
        },
        "id": "B_79PRWLw7HH",
        "outputId": "027d4d9b-d6e7-4581-8971-cb350872acfa"
      },
      "outputs": [
        {
          "data": {
            "image/png": "[encoded data removed]",
            "text/plain": [
              "<Figure size 1000x600 with 1 Axes>"
            ]
          },
          "metadata": {},
          "output_type": "display_data"
        }
      ],
      "source": [
        "import matplotlib.pyplot as plt\n",
        "\n",
        "logs = trainer.state.log_history\n",
        "\n",
        "train_steps = [log[\"step\"] for log in logs if \"loss\" in log and \"eval_loss\" not in log]\n",
        "train_losses = [log[\"loss\"] for log in logs if \"loss\" in log and \"eval_loss\" not in log]\n",
        "\n",
        "eval_steps = [log[\"step\"] for log in logs if \"eval_loss\" in log]\n",
        "eval_losses = [log[\"eval_loss\"] for log in logs if \"eval_loss\" in log]\n",
        "\n",
        "plt.figure(figsize=(10,6))\n",
        "plt.plot(train_steps, train_losses, label=\"Train Loss\", marker='o', linestyle='--')\n",
        "plt.plot(eval_steps, eval_losses, label=\"Eval Loss\", marker='o', linestyle='--')\n",
        "\n",
        "plt.xlabel(\"Step\")\n",
        "plt.ylabel(\"Loss\")\n",
        "plt.legend()\n",
        "plt.grid(True)\n",
        "plt.tight_layout()\n",
        "plt.savefig(\"detector_train_eval_loss.svg\")\n",
        "plt.show()"
      ]
    },
    {
      "cell_type": "code",
      "execution_count": 402,
      "metadata": {
        "colab": {
          "base_uri": "https://localhost:8080/",
          "height": 466
        },
        "id": "ceq3SMQ3o4Oz",
        "outputId": "7293a719-105d-41e5-ed2e-19ab5af85d9c"
      },
      "outputs": [
        {
          "data": {
            "text/html": [],
            "text/plain": [
              "<IPython.core.display.HTML object>"
            ]
          },
          "metadata": {},
          "output_type": "display_data"
        },
        {
          "name": "stdout",
          "output_type": "stream",
          "text": [
            "Metrics: {'accuracy': 0.99949924887331, 'precision': 0.9994998015787477, 'recall': 0.99949924887331, 'f1': 0.9994992724326268, 'f2': 0.9994991976174976, 'roc_auc': np.float64(1.0)}\n"
          ]
        },
        {
          "data": {
            "image/png": "[encoded data removed]",
            "text/plain": [
              "<Figure size 640x480 with 2 Axes>"
            ]
          },
          "metadata": {},
          "output_type": "display_data"
        },
        {
          "data": {
            "image/png": "[encoded data removed]",
            "text/plain": [
              "<Figure size 640x480 with 1 Axes>"
            ]
          },
          "metadata": {},
          "output_type": "display_data"
        }
      ],
      "source": [
        "import seaborn as sns\n",
        "import matplotlib.pyplot as plt\n",
        "from sklearn.metrics import roc_curve, auc\n",
        "\n",
        "conf_matrix = evaluate.load(\"confusion_matrix\")\n",
        "\n",
        "pred_output = trainer.predict(tokenized_data[\"test\"])\n",
        "predictions = pred_output.predictions\n",
        "labels = pred_output.label_ids\n",
        "\n",
        "print(\"Metrics:\", compute_metrics((predictions, labels)))\n",
        "\n",
        "results = conf_matrix.compute(predictions=np.argmax(predictions, axis=1), references=labels)\n",
        "cm = np.array(results[\"confusion_matrix\"])\n",
        "\n",
        "sns.heatmap(cm, annot=True, fmt=\"d\", cmap=\"Blues\")\n",
        "plt.xlabel(\"Predicted\")\n",
        "plt.ylabel(\"True\")\n",
        "plt.savefig(\"confusion_matrix.svg\")\n",
        "plt.show()\n",
        "\n",
        "fpr, tpr, thresholds = roc_curve(labels, np.argmax(predictions, axis=1))\n",
        "roc_auc = auc(fpr, tpr)\n",
        "\n",
        "plt.plot(fpr, tpr, color='blue', label=f'ROC curve (AUC = {roc_auc:.2f})')\n",
        "plt.plot([0, 1], [0, 1], color='red', linestyle='--')\n",
        "plt.xlim([0.0, 1.0])\n",
        "plt.ylim([0.0, 1.05])\n",
        "plt.xlabel('False Positive Rate')\n",
        "plt.ylabel('True Positive Rate')\n",
        "plt.legend(loc=\"lower right\")\n",
        "plt.grid()\n",
        "plt.savefig(\"roc_auc_curve.svg\")\n",
        "plt.show()"
      ]
    },
    {
      "cell_type": "code",
      "execution_count": 370,
      "metadata": {
        "colab": {
          "base_uri": "https://localhost:8080/",
          "height": 52
        },
        "id": "qzT9mVhaOUJ8",
        "outputId": "db4928db-8d0f-4b19-cadc-328f8bd330a7"
      },
      "outputs": [
        {
          "name": "stdout",
          "output_type": "stream",
          "text": [
            "Asycfilt.dll shows up on memory dump from compromised system. It has been identified as being part of the same attack chain as Figure 2.\n"
          ]
        },
        {
          "data": {
            "text/html": [],
            "text/plain": [
              "<IPython.core.display.HTML object>"
            ]
          },
          "metadata": {},
          "output_type": "display_data"
        },
        {
          "name": "stderr",
          "output_type": "stream",
          "text": [
            "d:\\Zuza\\MAGISTERKA\\AI-Generated-CTI\\venv\\Lib\\site-packages\\sklearn\\metrics\\_ranking.py:379: UndefinedMetricWarning: Only one class is present in y_true. ROC AUC score is not defined in that case.\n",
            "  warnings.warn(\n"
          ]
        },
        {
          "name": "stdout",
          "output_type": "stream",
          "text": [
            "Predicted: GENERATED vs. True: GENERATED\n"
          ]
        }
      ],
      "source": [
        "idx = 0\n",
        "\n",
        "text = tokenized_data[\"test\"][idx][\"text\"]\n",
        "print(text)\n",
        "\n",
        "example = tokenized_data[\"test\"].select([idx])\n",
        "prediction = trainer.predict(example)\n",
        "\n",
        "predicted_label = np.argmax(prediction.predictions, axis=1)[0]\n",
        "true_label = tokenized_data[\"test\"][idx][\"label\"]\n",
        "label_map = {0: \"REAL\", 1: \"GENERATED\"}\n",
        "print(f\"Predicted: {label_map[predicted_label]} vs. True: {label_map[true_label]}\")"
      ]
    },
    {
      "cell_type": "markdown",
      "metadata": {},
      "source": [
        "### Predict on base model data"
      ]
    },
    {
      "cell_type": "code",
      "execution_count": 403,
      "metadata": {},
      "outputs": [
        {
          "data": {
            "application/vnd.jupyter.widget-view+json": {
              "model_id": "1216139f2b9e4c7d84d9257d66fc3bf2",
              "version_major": 2,
              "version_minor": 0
            },
            "text/plain": [
              "Filter:   0%|          | 0/3162 [00:00<?, ? examples/s]"
            ]
          },
          "metadata": {},
          "output_type": "display_data"
        },
        {
          "data": {
            "application/vnd.jupyter.widget-view+json": {
              "model_id": "35378aa07f7d416a87ba7c735c3d19e6",
              "version_major": 2,
              "version_minor": 0
            },
            "text/plain": [
              "Map:   0%|          | 0/3162 [00:00<?, ? examples/s]"
            ]
          },
          "metadata": {},
          "output_type": "display_data"
        },
        {
          "data": {
            "application/vnd.jupyter.widget-view+json": {
              "model_id": "3cac70cd11a644b78eec5290b1364ef1",
              "version_major": 2,
              "version_minor": 0
            },
            "text/plain": [
              "Casting the dataset:   0%|          | 0/3162 [00:00<?, ? examples/s]"
            ]
          },
          "metadata": {},
          "output_type": "display_data"
        },
        {
          "name": "stdout",
          "output_type": "stream",
          "text": [
            "Base Model Data: Counter({0: 1581, 1: 1581})\n"
          ]
        }
      ],
      "source": [
        "base_model_dataset = Dataset.from_pandas(pd.read_json('detection_dataset_base_model.jsonl', lines=True)).filter(lambda example: example[\"text\"] not in dataset)\n",
        "\n",
        "tokenized_base_model_data = base_model_dataset.map(preprocess_function, batched=True)\n",
        "tokenized_base_model_data = tokenized_base_model_data.cast_column(\"label\", label_feature)\n",
        "print(\"Base Model Data:\", Counter(tokenized_base_model_data[\"label\"]))"
      ]
    },
    {
      "cell_type": "code",
      "execution_count": 404,
      "metadata": {},
      "outputs": [
        {
          "data": {
            "text/html": [],
            "text/plain": [
              "<IPython.core.display.HTML object>"
            ]
          },
          "metadata": {},
          "output_type": "display_data"
        },
        {
          "name": "stdout",
          "output_type": "stream",
          "text": [
            "Metrics: {'accuracy': 0.9949399114484504, 'precision': 0.994990607388854, 'recall': 0.9949399114484504, 'f1': 0.9949397818841152, 'f2': 0.9949337456143519, 'roc_auc': np.float64(0.999949991218458)}\n"
          ]
        },
        {
          "data": {
            "image/png": "[encoded data removed]",
            "text/plain": [
              "<Figure size 640x480 with 2 Axes>"
            ]
          },
          "metadata": {},
          "output_type": "display_data"
        },
        {
          "data": {
            "image/png": "[encoded data removed]",
            "text/plain": [
              "<Figure size 640x480 with 1 Axes>"
            ]
          },
          "metadata": {},
          "output_type": "display_data"
        }
      ],
      "source": [
        "import seaborn as sns\n",
        "import matplotlib.pyplot as plt\n",
        "from sklearn.metrics import roc_curve, auc\n",
        "\n",
        "conf_matrix = evaluate.load(\"confusion_matrix\")\n",
        "\n",
        "pred_output = trainer.predict(tokenized_base_model_data)\n",
        "predictions = pred_output.predictions\n",
        "labels = pred_output.label_ids\n",
        "\n",
        "print(\"Metrics:\", compute_metrics((predictions, labels)))\n",
        "\n",
        "results = conf_matrix.compute(predictions=np.argmax(predictions, axis=1), references=labels)\n",
        "cm = np.array(results[\"confusion_matrix\"])\n",
        "\n",
        "sns.heatmap(cm, annot=True, fmt=\"d\", cmap=\"Blues\")\n",
        "plt.xlabel(\"Predicted\")\n",
        "plt.ylabel(\"True\")\n",
        "plt.savefig(\"confusion_matrix_for_base_model.svg\")\n",
        "plt.show()\n",
        "\n",
        "fpr, tpr, thresholds = roc_curve(labels, np.argmax(predictions, axis=1))\n",
        "roc_auc = auc(fpr, tpr)\n",
        "\n",
        "plt.plot(fpr, tpr, color='blue', label=f'ROC curve (AUC = {roc_auc:.2f})')\n",
        "plt.plot([0, 1], [0, 1], color='red', linestyle='--')\n",
        "plt.xlim([0.0, 1.0])\n",
        "plt.ylim([0.0, 1.05])\n",
        "plt.xlabel('False Positive Rate')\n",
        "plt.ylabel('True Positive Rate')\n",
        "plt.legend(loc=\"lower right\")\n",
        "plt.grid()\n",
        "plt.savefig(\"roc_auc_curve_for_base_model.svg\")\n",
        "plt.show()"
      ]
    },
    {
      "cell_type": "markdown",
      "metadata": {},
      "source": [
        "### Predict on survey data"
      ]
    },
    {
      "cell_type": "code",
      "execution_count": 405,
      "metadata": {},
      "outputs": [
        {
          "data": {
            "text/html": [],
            "text/plain": [
              "<IPython.core.display.HTML object>"
            ]
          },
          "metadata": {},
          "output_type": "display_data"
        },
        {
          "name": "stdout",
          "output_type": "stream",
          "text": [
            "Metrics: {'accuracy': 0.9903846153846154, 'precision': 0.990569526627219, 'recall': 0.9903846153846154, 'f1': 0.9903855044631744, 'f2': 0.9903629898747085, 'roc_auc': np.float64(0.9881613022567518)}\n"
          ]
        },
        {
          "data": {
            "image/png": "[encoded data removed]",
            "text/plain": [
              "<Figure size 640x480 with 2 Axes>"
            ]
          },
          "metadata": {},
          "output_type": "display_data"
        },
        {
          "data": {
            "image/png": "[encoded data removed]",
            "text/plain": [
              "<Figure size 640x480 with 1 Axes>"
            ]
          },
          "metadata": {},
          "output_type": "display_data"
        }
      ],
      "source": [
        "import seaborn as sns\n",
        "import matplotlib.pyplot as plt\n",
        "from sklearn.metrics import roc_curve, auc\n",
        "\n",
        "conf_matrix = evaluate.load(\"confusion_matrix\")\n",
        "\n",
        "pred_output = trainer.predict(tokenized_data_survey)\n",
        "predictions = pred_output.predictions\n",
        "labels = pred_output.label_ids\n",
        "\n",
        "print(\"Metrics:\", compute_metrics((predictions, labels)))\n",
        "\n",
        "results = conf_matrix.compute(predictions=np.argmax(predictions, axis=1), references=labels)\n",
        "cm = np.array(results[\"confusion_matrix\"])\n",
        "\n",
        "sns.heatmap(cm, annot=True, fmt=\"d\", cmap=\"Blues\")\n",
        "plt.xlabel(\"Predicted\")\n",
        "plt.ylabel(\"True\")\n",
        "plt.savefig(\"confusion_matrix_for_survey_data.svg\")\n",
        "plt.show()\n",
        "\n",
        "fpr, tpr, thresholds = roc_curve(labels, np.argmax(predictions, axis=1))\n",
        "roc_auc = auc(fpr, tpr)\n",
        "\n",
        "plt.plot(fpr, tpr, color='blue', label=f'ROC curve (AUC = {roc_auc:.2f})')\n",
        "plt.plot([0, 1], [0, 1], color='red', linestyle='--')\n",
        "plt.xlim([0.0, 1.0])\n",
        "plt.ylim([0.0, 1.05])\n",
        "plt.xlabel('False Positive Rate')\n",
        "plt.ylabel('True Positive Rate')\n",
        "plt.legend(loc=\"lower right\")\n",
        "plt.grid()\n",
        "plt.savefig(\"roc_auc_curve_for_survey_data.svg\")\n",
        "plt.show()"
      ]
    },
    {
      "cell_type": "markdown",
      "metadata": {},
      "source": [
        "### Predict on cleaned survey data"
      ]
    },
    {
      "cell_type": "code",
      "execution_count": null,
      "metadata": {},
      "outputs": [
        {
          "data": {
            "application/vnd.jupyter.widget-view+json": {
              "model_id": "045eded525074505a877687196bd1d8c",
              "version_major": 2,
              "version_minor": 0
            },
            "text/plain": [
              "Filter:   0%|          | 0/100 [00:00<?, ? examples/s]"
            ]
          },
          "metadata": {},
          "output_type": "display_data"
        },
        {
          "data": {
            "application/vnd.jupyter.widget-view+json": {
              "model_id": "115561cf9b2749baa9418a05a248a1aa",
              "version_major": 2,
              "version_minor": 0
            },
            "text/plain": [
              "Map:   0%|          | 0/100 [00:00<?, ? examples/s]"
            ]
          },
          "metadata": {},
          "output_type": "display_data"
        },
        {
          "data": {
            "application/vnd.jupyter.widget-view+json": {
              "model_id": "24e459e08805469982683c20c054d28e",
              "version_major": 2,
              "version_minor": 0
            },
            "text/plain": [
              "Casting the dataset:   0%|          | 0/100 [00:00<?, ? examples/s]"
            ]
          },
          "metadata": {},
          "output_type": "display_data"
        },
        {
          "name": "stdout",
          "output_type": "stream",
          "text": [
            "Data: Counter({1: 50, 0: 50})\n"
          ]
        },
        {
          "data": {
            "text/html": [],
            "text/plain": [
              "<IPython.core.display.HTML object>"
            ]
          },
          "metadata": {},
          "output_type": "display_data"
        },
        {
          "name": "stderr",
          "output_type": "stream",
          "text": [
            "d:\\Zuza\\MAGISTERKA\\AI-Generated-CTI\\venv\\Lib\\site-packages\\sklearn\\metrics\\_classification.py:1565: UndefinedMetricWarning: Precision is ill-defined and being set to 0.0 in labels with no predicted samples. Use `zero_division` parameter to control this behavior.\n",
            "  _warn_prf(average, modifier, f\"{metric.capitalize()} is\", len(result))\n"
          ]
        },
        {
          "name": "stdout",
          "output_type": "stream",
          "text": [
            "Metrics: {'accuracy': 0.5, 'precision': 0.25, 'recall': 0.5, 'f1': 0.33333333333333326, 'f2': 0.41666666666666674, 'roc_auc': np.float64(0.5412)}\n"
          ]
        },
        {
          "name": "stderr",
          "output_type": "stream",
          "text": [
            "d:\\Zuza\\MAGISTERKA\\AI-Generated-CTI\\venv\\Lib\\site-packages\\sklearn\\metrics\\_classification.py:1565: UndefinedMetricWarning: Precision is ill-defined and being set to 0.0 in labels with no predicted samples. Use `zero_division` parameter to control this behavior.\n",
            "  _warn_prf(average, modifier, f\"{metric.capitalize()} is\", len(result))\n"
          ]
        },
        {
          "data": {
            "image/png": "[encoded data removed]",
            "text/plain": [
              "<Figure size 640x480 with 2 Axes>"
            ]
          },
          "metadata": {},
          "output_type": "display_data"
        },
        {
          "data": {
            "image/png": "[encoded data removed]",
            "text/plain": [
              "<Figure size 640x480 with 1 Axes>"
            ]
          },
          "metadata": {},
          "output_type": "display_data"
        }
      ],
      "source": [
        "import seaborn as sns\n",
        "import matplotlib.pyplot as plt\n",
        "from sklearn.metrics import roc_curve, auc\n",
        "\n",
        "test_model_dataset = Dataset.from_pandas(pd.read_json('survey/samples_for_survey.jsonl', lines=True)).filter(lambda example: example[\"text\"] not in dataset)\n",
        "\n",
        "tokenized_test_data = test_model_dataset.map(preprocess_function, batched=True).cast_column(\"label\", label_feature)\n",
        "print(\"Data:\", Counter(tokenized_test_data[\"label\"]))\n",
        "\n",
        "conf_matrix = evaluate.load(\"confusion_matrix\")\n",
        "\n",
        "pred_output = trainer.predict(tokenized_test_data)\n",
        "predictions = pred_output.predictions\n",
        "labels = pred_output.label_ids\n",
        "\n",
        "print(\"Metrics:\", compute_metrics((predictions, labels)))\n",
        "\n",
        "results = conf_matrix.compute(predictions=np.argmax(predictions, axis=1), references=labels)\n",
        "cm = np.array(results[\"confusion_matrix\"])\n",
        "\n",
        "sns.heatmap(cm, annot=True, fmt=\"d\", cmap=\"Blues\")\n",
        "plt.xlabel(\"Predicted\")\n",
        "plt.ylabel(\"True\")\n",
        "plt.savefig(\"confusion_matrix_for_survey_data_cleaned.svg\")\n",
        "plt.show()\n",
        "\n",
        "fpr, tpr, thresholds = roc_curve(labels, np.argmax(predictions, axis=1))\n",
        "roc_auc = auc(fpr, tpr)\n",
        "\n",
        "plt.plot(fpr, tpr, color='blue', label=f'ROC curve (AUC = {roc_auc:.2f})')\n",
        "plt.plot([0, 1], [0, 1], color='red', linestyle='--')\n",
        "plt.xlim([0.0, 1.0])\n",
        "plt.ylim([0.0, 1.05])\n",
        "plt.xlabel('False Positive Rate')\n",
        "plt.ylabel('True Positive Rate')\n",
        "plt.legend(loc=\"lower right\")\n",
        "plt.grid()\n",
        "plt.savefig(\"roc_auc_curve_for_survey_data_cleaned.svg\")\n",
        "plt.show()"
      ]
    }
  ],
  "metadata": {
    "colab": {
      "provenance": []
    },
    "kernelspec": {
      "display_name": "venv",
      "language": "python",
      "name": "python3"
    },
    "language_info": {
      "codemirror_mode": {
        "name": "ipython",
        "version": 3
      },
      "file_extension": ".py",
      "mimetype": "text/x-python",
      "name": "python",
      "nbconvert_exporter": "python",
      "pygments_lexer": "ipython3",
      "version": "3.12.8"
    },
    "widgets": {
      "application/vnd.jupyter.widget-state+json": {
        "1e626271766443a6b6d290367cc49645": {
          "model_module": "@jupyter-widgets/controls",
          "model_module_version": "1.5.0",
          "model_name": "HTMLModel",
          "state": {
            "_dom_classes": [],
            "_model_module": "@jupyter-widgets/controls",
            "_model_module_version": "1.5.0",
            "_model_name": "HTMLModel",
            "_view_count": null,
            "_view_module": "@jupyter-widgets/controls",
            "_view_module_version": "1.5.0",
            "_view_name": "HTMLView",
            "description": "",
            "description_tooltip": null,
            "layout": "IPY_MODEL_a310fd6bfd6e4e929228419b8733589d",
            "placeholder": "​",
            "style": "IPY_MODEL_45dc2f1813404312b24c09368a4e28f9",
            "value": " 1092/1092 [00:00&lt;00:00, 2488.51 examples/s]"
          }
        },
        "270ef43aa08641e3bc7bada56fc01a85": {
          "model_module": "@jupyter-widgets/base",
          "model_module_version": "1.2.0",
          "model_name": "LayoutModel",
          "state": {
            "_model_module": "@jupyter-widgets/base",
            "_model_module_version": "1.2.0",
            "_model_name": "LayoutModel",
            "_view_count": null,
            "_view_module": "@jupyter-widgets/base",
            "_view_module_version": "1.2.0",
            "_view_name": "LayoutView",
            "align_content": null,
            "align_items": null,
            "align_self": null,
            "border": null,
            "bottom": null,
            "display": null,
            "flex": null,
            "flex_flow": null,
            "grid_area": null,
            "grid_auto_columns": null,
            "grid_auto_flow": null,
            "grid_auto_rows": null,
            "grid_column": null,
            "grid_gap": null,
            "grid_row": null,
            "grid_template_areas": null,
            "grid_template_columns": null,
            "grid_template_rows": null,
            "height": null,
            "justify_content": null,
            "justify_items": null,
            "left": null,
            "margin": null,
            "max_height": null,
            "max_width": null,
            "min_height": null,
            "min_width": null,
            "object_fit": null,
            "object_position": null,
            "order": null,
            "overflow": null,
            "overflow_x": null,
            "overflow_y": null,
            "padding": null,
            "right": null,
            "top": null,
            "visibility": null,
            "width": null
          }
        },
        "45dc2f1813404312b24c09368a4e28f9": {
          "model_module": "@jupyter-widgets/controls",
          "model_module_version": "1.5.0",
          "model_name": "DescriptionStyleModel",
          "state": {
            "_model_module": "@jupyter-widgets/controls",
            "_model_module_version": "1.5.0",
            "_model_name": "DescriptionStyleModel",
            "_view_count": null,
            "_view_module": "@jupyter-widgets/base",
            "_view_module_version": "1.2.0",
            "_view_name": "StyleView",
            "description_width": ""
          }
        },
        "59096574ee5d4d0a9319139bcd4e6353": {
          "model_module": "@jupyter-widgets/controls",
          "model_module_version": "1.5.0",
          "model_name": "HBoxModel",
          "state": {
            "_dom_classes": [],
            "_model_module": "@jupyter-widgets/controls",
            "_model_module_version": "1.5.0",
            "_model_name": "HBoxModel",
            "_view_count": null,
            "_view_module": "@jupyter-widgets/controls",
            "_view_module_version": "1.5.0",
            "_view_name": "HBoxView",
            "box_style": "",
            "children": [
              "IPY_MODEL_677b87eea6a7484786a9456d7d855878",
              "IPY_MODEL_63ac971893974ed0a9d73c5da25c28e8",
              "IPY_MODEL_1e626271766443a6b6d290367cc49645"
            ],
            "layout": "IPY_MODEL_b9708ce144bd493895c9307d81f48314"
          }
        },
        "63ac971893974ed0a9d73c5da25c28e8": {
          "model_module": "@jupyter-widgets/controls",
          "model_module_version": "1.5.0",
          "model_name": "FloatProgressModel",
          "state": {
            "_dom_classes": [],
            "_model_module": "@jupyter-widgets/controls",
            "_model_module_version": "1.5.0",
            "_model_name": "FloatProgressModel",
            "_view_count": null,
            "_view_module": "@jupyter-widgets/controls",
            "_view_module_version": "1.5.0",
            "_view_name": "ProgressView",
            "bar_style": "success",
            "description": "",
            "description_tooltip": null,
            "layout": "IPY_MODEL_d572b2c6afec4faa8dff3510f14c5cea",
            "max": 1092,
            "min": 0,
            "orientation": "horizontal",
            "style": "IPY_MODEL_a2476b5b2ed945beb4bb35328017ac44",
            "value": 1092
          }
        },
        "677b87eea6a7484786a9456d7d855878": {
          "model_module": "@jupyter-widgets/controls",
          "model_module_version": "1.5.0",
          "model_name": "HTMLModel",
          "state": {
            "_dom_classes": [],
            "_model_module": "@jupyter-widgets/controls",
            "_model_module_version": "1.5.0",
            "_model_name": "HTMLModel",
            "_view_count": null,
            "_view_module": "@jupyter-widgets/controls",
            "_view_module_version": "1.5.0",
            "_view_name": "HTMLView",
            "description": "",
            "description_tooltip": null,
            "layout": "IPY_MODEL_270ef43aa08641e3bc7bada56fc01a85",
            "placeholder": "​",
            "style": "IPY_MODEL_e46fd38b260b4ebf9e2a4892b79399ee",
            "value": "Map: 100%"
          }
        },
        "a2476b5b2ed945beb4bb35328017ac44": {
          "model_module": "@jupyter-widgets/controls",
          "model_module_version": "1.5.0",
          "model_name": "ProgressStyleModel",
          "state": {
            "_model_module": "@jupyter-widgets/controls",
            "_model_module_version": "1.5.0",
            "_model_name": "ProgressStyleModel",
            "_view_count": null,
            "_view_module": "@jupyter-widgets/base",
            "_view_module_version": "1.2.0",
            "_view_name": "StyleView",
            "bar_color": null,
            "description_width": ""
          }
        },
        "a310fd6bfd6e4e929228419b8733589d": {
          "model_module": "@jupyter-widgets/base",
          "model_module_version": "1.2.0",
          "model_name": "LayoutModel",
          "state": {
            "_model_module": "@jupyter-widgets/base",
            "_model_module_version": "1.2.0",
            "_model_name": "LayoutModel",
            "_view_count": null,
            "_view_module": "@jupyter-widgets/base",
            "_view_module_version": "1.2.0",
            "_view_name": "LayoutView",
            "align_content": null,
            "align_items": null,
            "align_self": null,
            "border": null,
            "bottom": null,
            "display": null,
            "flex": null,
            "flex_flow": null,
            "grid_area": null,
            "grid_auto_columns": null,
            "grid_auto_flow": null,
            "grid_auto_rows": null,
            "grid_column": null,
            "grid_gap": null,
            "grid_row": null,
            "grid_template_areas": null,
            "grid_template_columns": null,
            "grid_template_rows": null,
            "height": null,
            "justify_content": null,
            "justify_items": null,
            "left": null,
            "margin": null,
            "max_height": null,
            "max_width": null,
            "min_height": null,
            "min_width": null,
            "object_fit": null,
            "object_position": null,
            "order": null,
            "overflow": null,
            "overflow_x": null,
            "overflow_y": null,
            "padding": null,
            "right": null,
            "top": null,
            "visibility": null,
            "width": null
          }
        },
        "b9708ce144bd493895c9307d81f48314": {
          "model_module": "@jupyter-widgets/base",
          "model_module_version": "1.2.0",
          "model_name": "LayoutModel",
          "state": {
            "_model_module": "@jupyter-widgets/base",
            "_model_module_version": "1.2.0",
            "_model_name": "LayoutModel",
            "_view_count": null,
            "_view_module": "@jupyter-widgets/base",
            "_view_module_version": "1.2.0",
            "_view_name": "LayoutView",
            "align_content": null,
            "align_items": null,
            "align_self": null,
            "border": null,
            "bottom": null,
            "display": null,
            "flex": null,
            "flex_flow": null,
            "grid_area": null,
            "grid_auto_columns": null,
            "grid_auto_flow": null,
            "grid_auto_rows": null,
            "grid_column": null,
            "grid_gap": null,
            "grid_row": null,
            "grid_template_areas": null,
            "grid_template_columns": null,
            "grid_template_rows": null,
            "height": null,
            "justify_content": null,
            "justify_items": null,
            "left": null,
            "margin": null,
            "max_height": null,
            "max_width": null,
            "min_height": null,
            "min_width": null,
            "object_fit": null,
            "object_position": null,
            "order": null,
            "overflow": null,
            "overflow_x": null,
            "overflow_y": null,
            "padding": null,
            "right": null,
            "top": null,
            "visibility": null,
            "width": null
          }
        },
        "d572b2c6afec4faa8dff3510f14c5cea": {
          "model_module": "@jupyter-widgets/base",
          "model_module_version": "1.2.0",
          "model_name": "LayoutModel",
          "state": {
            "_model_module": "@jupyter-widgets/base",
            "_model_module_version": "1.2.0",
            "_model_name": "LayoutModel",
            "_view_count": null,
            "_view_module": "@jupyter-widgets/base",
            "_view_module_version": "1.2.0",
            "_view_name": "LayoutView",
            "align_content": null,
            "align_items": null,
            "align_self": null,
            "border": null,
            "bottom": null,
            "display": null,
            "flex": null,
            "flex_flow": null,
            "grid_area": null,
            "grid_auto_columns": null,
            "grid_auto_flow": null,
            "grid_auto_rows": null,
            "grid_column": null,
            "grid_gap": null,
            "grid_row": null,
            "grid_template_areas": null,
            "grid_template_columns": null,
            "grid_template_rows": null,
            "height": null,
            "justify_content": null,
            "justify_items": null,
            "left": null,
            "margin": null,
            "max_height": null,
            "max_width": null,
            "min_height": null,
            "min_width": null,
            "object_fit": null,
            "object_position": null,
            "order": null,
            "overflow": null,
            "overflow_x": null,
            "overflow_y": null,
            "padding": null,
            "right": null,
            "top": null,
            "visibility": null,
            "width": null
          }
        },
        "e46fd38b260b4ebf9e2a4892b79399ee": {
          "model_module": "@jupyter-widgets/controls",
          "model_module_version": "1.5.0",
          "model_name": "DescriptionStyleModel",
          "state": {
            "_model_module": "@jupyter-widgets/controls",
            "_model_module_version": "1.5.0",
            "_model_name": "DescriptionStyleModel",
            "_view_count": null,
            "_view_module": "@jupyter-widgets/base",
            "_view_module_version": "1.2.0",
            "_view_name": "StyleView",
            "description_width": ""
          }
        }
      }
    }
  },
  "nbformat": 4,
  "nbformat_minor": 0
}
