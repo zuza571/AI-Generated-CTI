{
 "cells": [
  {
   "cell_type": "markdown",
   "id": "af7ae43a",
   "metadata": {},
   "source": [
    "## 1st iteration"
   ]
  },
  {
   "cell_type": "code",
   "execution_count": null,
   "id": "5917ef82",
   "metadata": {},
   "outputs": [],
   "source": [
    "import pandas as pd\n",
    "import json\n",
    "\n",
    "data = []\n",
    "with open('detection_dataset_1st_iter.jsonl', 'r', encoding='utf-8') as f:\n",
    "    for line in f:\n",
    "        data.append(json.loads(line))\n",
    "\n",
    "df = pd.DataFrame(data)\n",
    "df.head()"
   ]
  },
  {
   "cell_type": "markdown",
   "id": "3b8c050b",
   "metadata": {},
   "source": [
    "### TF-IDF"
   ]
  },
  {
   "cell_type": "code",
   "execution_count": null,
   "id": "6b076a73",
   "metadata": {},
   "outputs": [],
   "source": [
    "from sklearn.feature_extraction.text import TfidfVectorizer  # TF-IDF helps to determine the importance of words in the text\n",
    "\n",
    "vectorizer = TfidfVectorizer(max_features=5000)  # try different values or without it to see how it affects performance\n",
    "X = vectorizer.fit_transform(df['text'])\n",
    "y = df['label']  # 0 is real, 1 is generated"
   ]
  },
  {
   "cell_type": "code",
   "execution_count": null,
   "id": "e905d7f1",
   "metadata": {},
   "outputs": [],
   "source": [
    "# see the vocabulary\n",
    "vocab = vectorizer.get_feature_names_out()\n",
    "print(f\"Vocabulary size: {len(vocab)}\")\n",
    "print(vocab[:10])"
   ]
  },
  {
   "cell_type": "code",
   "execution_count": null,
   "id": "cd9a53c3",
   "metadata": {},
   "outputs": [],
   "source": [
    "from sklearn.model_selection import train_test_split\n",
    "\n",
    "X_train, X_test, y_train, y_test = train_test_split(X, y, test_size=0.2, random_state=42, stratify=y)"
   ]
  },
  {
   "cell_type": "code",
   "execution_count": null,
   "id": "e73f9fbb",
   "metadata": {},
   "outputs": [],
   "source": [
    "from sklearn.ensemble import RandomForestClassifier\n",
    "from sklearn.metrics import classification_report\n",
    "\n",
    "rf = RandomForestClassifier(n_estimators=100, random_state=42)\n",
    "rf.fit(X_train, y_train)\n",
    "\n",
    "y_pred = rf.predict(X_test)\n",
    "print(classification_report(y_test, y_pred))"
   ]
  },
  {
   "cell_type": "markdown",
   "id": "64e8c360",
   "metadata": {},
   "source": [
    "### Sentence Transformer"
   ]
  },
  {
   "cell_type": "code",
   "execution_count": null,
   "id": "d77a2253",
   "metadata": {},
   "outputs": [],
   "source": [
    "# for text understanding\n",
    "from sentence_transformers import SentenceTransformer\n",
    "model = SentenceTransformer(\"all-MiniLM-L6-v2\")  # or paraphrase-MiniLM-L3-v2\n",
    "X = model.encode(df[\"text\"].tolist(), show_progress_bar=True)\n",
    "y = df[\"label\"]"
   ]
  },
  {
   "cell_type": "code",
   "execution_count": null,
   "id": "111ffec6",
   "metadata": {},
   "outputs": [],
   "source": [
    "from sklearn.model_selection import train_test_split\n",
    "\n",
    "X_train, X_test, y_train, y_test = train_test_split(X, y, test_size=0.2, random_state=42, stratify=y)"
   ]
  },
  {
   "cell_type": "code",
   "execution_count": null,
   "id": "ebd00673",
   "metadata": {},
   "outputs": [],
   "source": [
    "from sklearn.ensemble import RandomForestClassifier\n",
    "from sklearn.metrics import classification_report\n",
    "\n",
    "rf = RandomForestClassifier(n_estimators=100, random_state=42)\n",
    "rf.fit(X_train, y_train)\n",
    "\n",
    "y_pred = rf.predict(X_test)\n",
    "print(classification_report(y_test, y_pred))"
   ]
  },
  {
   "cell_type": "markdown",
   "id": "1cfcd70c",
   "metadata": {},
   "source": [
    "## 2nd iteration"
   ]
  },
  {
   "cell_type": "code",
   "execution_count": null,
   "id": "368fddd4",
   "metadata": {},
   "outputs": [],
   "source": []
  },
  {
   "cell_type": "markdown",
   "id": "391445e2",
   "metadata": {},
   "source": [
    "## 3rd iteration"
   ]
  },
  {
   "cell_type": "code",
   "execution_count": null,
   "id": "34064ae0",
   "metadata": {},
   "outputs": [],
   "source": []
  }
 ],
 "metadata": {
  "language_info": {
   "name": "python"
  }
 },
 "nbformat": 4,
 "nbformat_minor": 5
}
